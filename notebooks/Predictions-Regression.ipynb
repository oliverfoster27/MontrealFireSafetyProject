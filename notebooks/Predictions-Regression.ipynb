{
 "cells": [
  {
   "cell_type": "code",
   "execution_count": 1,
   "metadata": {},
   "outputs": [],
   "source": [
    "import numpy as np\n",
    "import pandas as pd\n",
    "from sklearn.base import BaseEstimator, TransformerMixin\n",
    "from sklearn.preprocessing import OneHotEncoder, StandardScaler\n",
    "from sklearn.impute import SimpleImputer\n",
    "from sklearn.pipeline import make_pipeline, FeatureUnion, Pipeline\n",
    "from sklearn.linear_model import LogisticRegression\n",
    "from sklearn.model_selection import train_test_split\n",
    "from sklearn.metrics import accuracy_score\n",
    "from sklearn.model_selection import GridSearchCV\n",
    "from sklearn.svm import SVC\n",
    "from sklearn.ensemble import GradientBoostingClassifier\n",
    "from sklearn.ensemble import RandomForestClassifier\n",
    "from sklearn.ensemble import BaggingClassifier\n",
    "from collections import namedtuple\n",
    "from sklearn.tree import DecisionTreeClassifier\n",
    "from sklearn.feature_selection import RFE, SelectFromModel\n",
    "from sklearn.metrics import fbeta_score\n",
    "from sklearn.metrics.scorer import make_scorer\n",
    "from sklearn.metrics import f1_score\n",
    "from sklearn.compose import ColumnTransformer\n",
    "from sklearn.preprocessing import MinMaxScaler\n",
    "from sklearn.linear_model import Ridge\n",
    "import seaborn as sns"
   ]
  },
  {
   "cell_type": "code",
   "execution_count": 2,
   "metadata": {},
   "outputs": [],
   "source": [
    "Grid = namedtuple(\"Grid\", ['model', 'param_grid'])"
   ]
  },
  {
   "cell_type": "markdown",
   "metadata": {},
   "source": [
    "# Notes\n",
    "- Once i recieve the data - offset the target column by 1 so one year predicts the next\n",
    "- Drop all polygon data & assume we have sufficient features to predict the next year\n",
    "- Each row represents the status of a given polygon & the incidents that year"
   ]
  },
  {
   "cell_type": "code",
   "execution_count": 3,
   "metadata": {},
   "outputs": [],
   "source": [
    "def get_next_year(year, region, df):\n",
    "    if year+1 not in set(df[YEAR_COL]):\n",
    "        return float('nan')\n",
    "    return df.loc[(df[YEAR_COL]==year+1) & (df[REGION_COL]==region), TARGET].values[0]"
   ]
  },
  {
   "cell_type": "code",
   "execution_count": 4,
   "metadata": {},
   "outputs": [],
   "source": [
    "df = pd.read_csv(r\"C:\\Users\\olive\\Documents\\GitHub\\MontrealFireSafetyProject\\data\\all_data_clean.csv\", index_col=0)\n",
    "\n",
    "TARGET = 'Building_fire'\n",
    "YEAR_COL = 'Year'\n",
    "REGION_COL = 'Poly_Key'\n",
    "\n",
    "df[REGION_COL] = df[REGION_COL].astype('str')\n",
    "df['Next Year'] = df['Year'].apply(lambda x: int(x+1))\n",
    "\n",
    "left = df.copy()\n",
    "right = df.copy()\n",
    "\n",
    "left['idx'] = left.apply(lambda row: \"{}_{}\".format(row['Poly_Key'], row['Year']), axis=1)\n",
    "right['idx'] = right.apply(lambda row: \"{}_{}\".format(row['Poly_Key'], row['Next Year']), axis=1)\n",
    "\n",
    "left = left.set_index(['idx'], drop=True)\n",
    "right = right.set_index(['idx'], drop=True)\n",
    "\n",
    "tot = left.join(right, lsuffix='_nextyear', rsuffix='_thisyear', how='inner')\n",
    "tot = tot[['Poly_Key_nextyear', 'Building_fire_nextyear', 'incident_nextyear', \n",
    "           *[x for x in tot.columns if x[-9:]=='_thisyear']]]\n",
    "\n",
    "tot = tot.drop(['Next Year_thisyear'], axis=1)\n",
    "tot = tot.set_index(['Poly_Key_thisyear', 'Year_thisyear'], drop=True)\n",
    "\n",
    "df = tot.reset_index(drop=True).copy()\n",
    "X, y = df.drop([TARGET + '_nextyear'], axis=1), df[TARGET + '_nextyear']\n",
    "#y = y.apply(lambda x: 1 if x > 0 else 0)"
   ]
  },
  {
   "cell_type": "code",
   "execution_count": 5,
   "metadata": {},
   "outputs": [],
   "source": [
    "X_train, X_test, y_train, y_test = train_test_split(X, y, test_size=0.3)"
   ]
  },
  {
   "cell_type": "code",
   "execution_count": 6,
   "metadata": {},
   "outputs": [
    {
     "data": {
      "text/html": [
       "<div>\n",
       "<style scoped>\n",
       "    .dataframe tbody tr th:only-of-type {\n",
       "        vertical-align: middle;\n",
       "    }\n",
       "\n",
       "    .dataframe tbody tr th {\n",
       "        vertical-align: top;\n",
       "    }\n",
       "\n",
       "    .dataframe thead th {\n",
       "        text-align: right;\n",
       "    }\n",
       "</style>\n",
       "<table border=\"1\" class=\"dataframe\">\n",
       "  <thead>\n",
       "    <tr style=\"text-align: right;\">\n",
       "      <th></th>\n",
       "      <th>Poly_Key_nextyear</th>\n",
       "      <th>incident_nextyear</th>\n",
       "      <th>CFSAUID_thisyear</th>\n",
       "      <th>Building_fire_thisyear</th>\n",
       "      <th>incident_thisyear</th>\n",
       "      <th>Desc_gr_clean_Alarmes-incendies_thisyear</th>\n",
       "      <th>Desc_gr_clean_Autres incendies_thisyear</th>\n",
       "      <th>Desc_gr_clean_Fausses alertes/annulations_thisyear</th>\n",
       "      <th>Desc_gr_clean_Nouveau_thisyear</th>\n",
       "      <th>Desc_gr_clean_Premier répondant_thisyear</th>\n",
       "      <th>...</th>\n",
       "      <th>gr_0_to_14_years_thisyear</th>\n",
       "      <th>gr_15_to_29_ years_thisyear</th>\n",
       "      <th>gr_30_to_64_years_thisyear</th>\n",
       "      <th>gr_65_years_+_thisyear</th>\n",
       "      <th>gr_married_commomlawpartner_thisyear</th>\n",
       "      <th>income_per_capita_thisyear</th>\n",
       "      <th>Income_0_to_35K_thisyear</th>\n",
       "      <th>Income_35K_to_70K_thisyear</th>\n",
       "      <th>Income_70K+_thisyear</th>\n",
       "      <th>population tax payers_thisyear</th>\n",
       "    </tr>\n",
       "  </thead>\n",
       "  <tbody>\n",
       "    <tr>\n",
       "      <th>272491</th>\n",
       "      <td>POLYGON ((-73.64259836850309 45.51656488644628...</td>\n",
       "      <td>3.0</td>\n",
       "      <td>H3P</td>\n",
       "      <td>0.0</td>\n",
       "      <td>2.0</td>\n",
       "      <td>0</td>\n",
       "      <td>0</td>\n",
       "      <td>0</td>\n",
       "      <td>0</td>\n",
       "      <td>2.0</td>\n",
       "      <td>...</td>\n",
       "      <td>0.19</td>\n",
       "      <td>0.17</td>\n",
       "      <td>0.44</td>\n",
       "      <td>0.20</td>\n",
       "      <td>0.48</td>\n",
       "      <td>103396.538462</td>\n",
       "      <td>0.41</td>\n",
       "      <td>0.20</td>\n",
       "      <td>0.39</td>\n",
       "      <td>7800</td>\n",
       "    </tr>\n",
       "    <tr>\n",
       "      <th>141034</th>\n",
       "      <td>POLYGON ((-73.55490805567743 45.51530932546331...</td>\n",
       "      <td>2.0</td>\n",
       "      <td>H2L</td>\n",
       "      <td>0.0</td>\n",
       "      <td>3.0</td>\n",
       "      <td>2</td>\n",
       "      <td>1</td>\n",
       "      <td>0</td>\n",
       "      <td>0</td>\n",
       "      <td>0.0</td>\n",
       "      <td>...</td>\n",
       "      <td>0.07</td>\n",
       "      <td>0.24</td>\n",
       "      <td>0.56</td>\n",
       "      <td>0.09</td>\n",
       "      <td>0.28</td>\n",
       "      <td>44515.005870</td>\n",
       "      <td>0.56</td>\n",
       "      <td>0.26</td>\n",
       "      <td>0.18</td>\n",
       "      <td>19760</td>\n",
       "    </tr>\n",
       "    <tr>\n",
       "      <th>170330</th>\n",
       "      <td>POLYGON ((-73.55831637045785 45.5063732320102,...</td>\n",
       "      <td>0.0</td>\n",
       "      <td>H2Z</td>\n",
       "      <td>0.0</td>\n",
       "      <td>0.0</td>\n",
       "      <td>0</td>\n",
       "      <td>0</td>\n",
       "      <td>0</td>\n",
       "      <td>0</td>\n",
       "      <td>0.0</td>\n",
       "      <td>...</td>\n",
       "      <td>0.05</td>\n",
       "      <td>0.23</td>\n",
       "      <td>0.48</td>\n",
       "      <td>0.23</td>\n",
       "      <td>0.46</td>\n",
       "      <td>56547.087379</td>\n",
       "      <td>0.59</td>\n",
       "      <td>0.18</td>\n",
       "      <td>0.23</td>\n",
       "      <td>2060</td>\n",
       "    </tr>\n",
       "    <tr>\n",
       "      <th>168020</th>\n",
       "      <td>POLYGON ((-73.58546045467119 45.62559625146157...</td>\n",
       "      <td>4.0</td>\n",
       "      <td>H1E</td>\n",
       "      <td>0.0</td>\n",
       "      <td>2.0</td>\n",
       "      <td>0</td>\n",
       "      <td>0</td>\n",
       "      <td>0</td>\n",
       "      <td>0</td>\n",
       "      <td>2.0</td>\n",
       "      <td>...</td>\n",
       "      <td>0.16</td>\n",
       "      <td>0.19</td>\n",
       "      <td>0.46</td>\n",
       "      <td>0.19</td>\n",
       "      <td>0.44</td>\n",
       "      <td>36313.245561</td>\n",
       "      <td>0.60</td>\n",
       "      <td>0.29</td>\n",
       "      <td>0.11</td>\n",
       "      <td>35030</td>\n",
       "    </tr>\n",
       "    <tr>\n",
       "      <th>246016</th>\n",
       "      <td>POLYGON ((-73.63801353808631 45.46082930327982...</td>\n",
       "      <td>3.0</td>\n",
       "      <td>H4B</td>\n",
       "      <td>0.0</td>\n",
       "      <td>6.0</td>\n",
       "      <td>1</td>\n",
       "      <td>0</td>\n",
       "      <td>0</td>\n",
       "      <td>0</td>\n",
       "      <td>3.0</td>\n",
       "      <td>...</td>\n",
       "      <td>0.16</td>\n",
       "      <td>0.19</td>\n",
       "      <td>0.50</td>\n",
       "      <td>0.15</td>\n",
       "      <td>0.39</td>\n",
       "      <td>38694.444444</td>\n",
       "      <td>0.64</td>\n",
       "      <td>0.21</td>\n",
       "      <td>0.15</td>\n",
       "      <td>15840</td>\n",
       "    </tr>\n",
       "  </tbody>\n",
       "</table>\n",
       "<p>5 rows × 26 columns</p>\n",
       "</div>"
      ],
      "text/plain": [
       "                                        Poly_Key_nextyear  incident_nextyear  \\\n",
       "272491  POLYGON ((-73.64259836850309 45.51656488644628...                3.0   \n",
       "141034  POLYGON ((-73.55490805567743 45.51530932546331...                2.0   \n",
       "170330  POLYGON ((-73.55831637045785 45.5063732320102,...                0.0   \n",
       "168020  POLYGON ((-73.58546045467119 45.62559625146157...                4.0   \n",
       "246016  POLYGON ((-73.63801353808631 45.46082930327982...                3.0   \n",
       "\n",
       "       CFSAUID_thisyear  Building_fire_thisyear  incident_thisyear  \\\n",
       "272491              H3P                     0.0                2.0   \n",
       "141034              H2L                     0.0                3.0   \n",
       "170330              H2Z                     0.0                0.0   \n",
       "168020              H1E                     0.0                2.0   \n",
       "246016              H4B                     0.0                6.0   \n",
       "\n",
       "        Desc_gr_clean_Alarmes-incendies_thisyear  \\\n",
       "272491                                         0   \n",
       "141034                                         2   \n",
       "170330                                         0   \n",
       "168020                                         0   \n",
       "246016                                         1   \n",
       "\n",
       "        Desc_gr_clean_Autres incendies_thisyear  \\\n",
       "272491                                        0   \n",
       "141034                                        1   \n",
       "170330                                        0   \n",
       "168020                                        0   \n",
       "246016                                        0   \n",
       "\n",
       "        Desc_gr_clean_Fausses alertes/annulations_thisyear  \\\n",
       "272491                                                  0    \n",
       "141034                                                  0    \n",
       "170330                                                  0    \n",
       "168020                                                  0    \n",
       "246016                                                  0    \n",
       "\n",
       "        Desc_gr_clean_Nouveau_thisyear  \\\n",
       "272491                               0   \n",
       "141034                               0   \n",
       "170330                               0   \n",
       "168020                               0   \n",
       "246016                               0   \n",
       "\n",
       "        Desc_gr_clean_Premier répondant_thisyear  ...  \\\n",
       "272491                                       2.0  ...   \n",
       "141034                                       0.0  ...   \n",
       "170330                                       0.0  ...   \n",
       "168020                                       2.0  ...   \n",
       "246016                                       3.0  ...   \n",
       "\n",
       "        gr_0_to_14_years_thisyear  gr_15_to_29_ years_thisyear  \\\n",
       "272491                       0.19                         0.17   \n",
       "141034                       0.07                         0.24   \n",
       "170330                       0.05                         0.23   \n",
       "168020                       0.16                         0.19   \n",
       "246016                       0.16                         0.19   \n",
       "\n",
       "        gr_30_to_64_years_thisyear  gr_65_years_+_thisyear  \\\n",
       "272491                        0.44                    0.20   \n",
       "141034                        0.56                    0.09   \n",
       "170330                        0.48                    0.23   \n",
       "168020                        0.46                    0.19   \n",
       "246016                        0.50                    0.15   \n",
       "\n",
       "        gr_married_commomlawpartner_thisyear  income_per_capita_thisyear  \\\n",
       "272491                                  0.48               103396.538462   \n",
       "141034                                  0.28                44515.005870   \n",
       "170330                                  0.46                56547.087379   \n",
       "168020                                  0.44                36313.245561   \n",
       "246016                                  0.39                38694.444444   \n",
       "\n",
       "        Income_0_to_35K_thisyear  Income_35K_to_70K_thisyear  \\\n",
       "272491                      0.41                        0.20   \n",
       "141034                      0.56                        0.26   \n",
       "170330                      0.59                        0.18   \n",
       "168020                      0.60                        0.29   \n",
       "246016                      0.64                        0.21   \n",
       "\n",
       "        Income_70K+_thisyear  population tax payers_thisyear  \n",
       "272491                  0.39                            7800  \n",
       "141034                  0.18                           19760  \n",
       "170330                  0.23                            2060  \n",
       "168020                  0.11                           35030  \n",
       "246016                  0.15                           15840  \n",
       "\n",
       "[5 rows x 26 columns]"
      ]
     },
     "execution_count": 6,
     "metadata": {},
     "output_type": "execute_result"
    }
   ],
   "source": [
    "X_train.head()"
   ]
  },
  {
   "cell_type": "code",
   "execution_count": 7,
   "metadata": {},
   "outputs": [
    {
     "data": {
      "text/plain": [
       "Index(['Poly_Key_nextyear', 'incident_nextyear', 'CFSAUID_thisyear',\n",
       "       'Building_fire_thisyear', 'incident_thisyear',\n",
       "       'Desc_gr_clean_Alarmes-incendies_thisyear',\n",
       "       'Desc_gr_clean_Autres incendies_thisyear',\n",
       "       'Desc_gr_clean_Fausses alertes/annulations_thisyear',\n",
       "       'Desc_gr_clean_Nouveau_thisyear',\n",
       "       'Desc_gr_clean_Premier répondant_thisyear',\n",
       "       'Desc_gr_clean_Sans incendie_thisyear', 'Num_units_total_thisyear',\n",
       "       'Num_units_mean_thisyear', 'Num_units_median_thisyear',\n",
       "       'population_thisyear', 'total_dwellings_thisyear',\n",
       "       'gr_0_to_14_years_thisyear', 'gr_15_to_29_ years_thisyear',\n",
       "       'gr_30_to_64_years_thisyear', 'gr_65_years_+_thisyear',\n",
       "       'gr_married_commomlawpartner_thisyear', 'income_per_capita_thisyear',\n",
       "       'Income_0_to_35K_thisyear', 'Income_35K_to_70K_thisyear',\n",
       "       'Income_70K+_thisyear', 'population tax payers_thisyear'],\n",
       "      dtype='object')"
      ]
     },
     "execution_count": 7,
     "metadata": {},
     "output_type": "execute_result"
    }
   ],
   "source": [
    "X_train.columns"
   ]
  },
  {
   "cell_type": "code",
   "execution_count": 8,
   "metadata": {},
   "outputs": [],
   "source": [
    "numerical_features = [\n",
    "       #'Building_fire_thisyear', 'incident_thisyear',\n",
    "       'Desc_gr_clean_Alarmes-incendies_thisyear',\n",
    "       'Desc_gr_clean_Autres incendies_thisyear',\n",
    "       'Desc_gr_clean_Fausses alertes/annulations_thisyear',\n",
    "       'Desc_gr_clean_Nouveau_thisyear',\n",
    "       'Desc_gr_clean_Premier répondant_thisyear',\n",
    "       'Desc_gr_clean_Sans incendie_thisyear', 'Num_units_total_thisyear',\n",
    "       'Num_units_mean_thisyear', 'Num_units_median_thisyear',\n",
    "       'population_thisyear', 'total_dwellings_thisyear',\n",
    "       'gr_0_to_14_years_thisyear', 'gr_15_to_29_ years_thisyear',\n",
    "       'gr_30_to_64_years_thisyear', 'gr_65_years_+_thisyear',\n",
    "       'gr_married_commomlawpartner_thisyear', 'income_per_capita_thisyear',\n",
    "       'Income_0_to_35K_thisyear', 'Income_35K_to_70K_thisyear',\n",
    "       'Income_70K+_thisyear', 'population tax payers_thisyear'\n",
    "]\n",
    "\n",
    "categorical_features = []"
   ]
  },
  {
   "cell_type": "code",
   "execution_count": 9,
   "metadata": {},
   "outputs": [],
   "source": [
    "categorical_pipeline = Pipeline(steps=[('one_hot_encoder', OneHotEncoder(sparse=False, \n",
    "                                                                         drop='first',\n",
    "                                                                         handle_unknown='error'))])"
   ]
  },
  {
   "cell_type": "code",
   "execution_count": 10,
   "metadata": {},
   "outputs": [],
   "source": [
    "numerical_pipeline = Pipeline(steps=[('min_max_scalar', MinMaxScaler())])"
   ]
  },
  {
   "cell_type": "code",
   "execution_count": 11,
   "metadata": {},
   "outputs": [],
   "source": [
    "prep_pipeline = ColumnTransformer([\n",
    "    (\"cat\", categorical_pipeline, categorical_features),\n",
    "    (\"num\", numerical_pipeline, numerical_features)\n",
    "])"
   ]
  },
  {
   "cell_type": "code",
   "execution_count": 12,
   "metadata": {},
   "outputs": [],
   "source": [
    "full_pipeline = Pipeline(steps=[('prep', prep_pipeline),\n",
    "                                #('feature_engineering', SelectFromModel(estimator=DecisionTreeClassifier(), threshold='0.5*mean')),\n",
    "                                ('estimator', Ridge())])"
   ]
  },
  {
   "cell_type": "code",
   "execution_count": 13,
   "metadata": {},
   "outputs": [
    {
     "data": {
      "text/plain": [
       "Pipeline(memory=None,\n",
       "         steps=[('prep',\n",
       "                 ColumnTransformer(n_jobs=None, remainder='drop',\n",
       "                                   sparse_threshold=0.3,\n",
       "                                   transformer_weights=None,\n",
       "                                   transformers=[('cat',\n",
       "                                                  Pipeline(memory=None,\n",
       "                                                           steps=[('one_hot_encoder',\n",
       "                                                                   OneHotEncoder(categorical_features=None,\n",
       "                                                                                 categories=None,\n",
       "                                                                                 drop='first',\n",
       "                                                                                 dtype=<class 'numpy.float64'>,\n",
       "                                                                                 handle_unknown='error',\n",
       "                                                                                 n_values=None,\n",
       "                                                                                 sparse=False))],\n",
       "                                                           ve...\n",
       "                                                   'gr_65_years_+_thisyear',\n",
       "                                                   'gr_married_commomlawpartner_thisyear',\n",
       "                                                   'income_per_capita_thisyear',\n",
       "                                                   'Income_0_to_35K_thisyear',\n",
       "                                                   'Income_35K_to_70K_thisyear',\n",
       "                                                   'Income_70K+_thisyear',\n",
       "                                                   'population tax '\n",
       "                                                   'payers_thisyear'])],\n",
       "                                   verbose=False)),\n",
       "                ('estimator',\n",
       "                 Ridge(alpha=1.0, copy_X=True, fit_intercept=True,\n",
       "                       max_iter=None, normalize=False, random_state=None,\n",
       "                       solver='auto', tol=0.001))],\n",
       "         verbose=False)"
      ]
     },
     "execution_count": 13,
     "metadata": {},
     "output_type": "execute_result"
    }
   ],
   "source": [
    "full_pipeline.fit(X_train, y_train)"
   ]
  },
  {
   "cell_type": "code",
   "execution_count": 14,
   "metadata": {},
   "outputs": [],
   "source": [
    "y_pred = full_pipeline.predict(X_test)"
   ]
  },
  {
   "cell_type": "code",
   "execution_count": 15,
   "metadata": {},
   "outputs": [],
   "source": [
    "from sklearn.metrics import accuracy_score\n",
    "from sklearn.metrics import mean_absolute_error"
   ]
  },
  {
   "cell_type": "code",
   "execution_count": 16,
   "metadata": {},
   "outputs": [
    {
     "data": {
      "text/plain": [
       "0.09562164691709273"
      ]
     },
     "execution_count": 16,
     "metadata": {},
     "output_type": "execute_result"
    }
   ],
   "source": [
    "mean_absolute_error(y_test, y_pred)"
   ]
  },
  {
   "cell_type": "markdown",
   "metadata": {},
   "source": [
    "### Baseline: Predict next year there will be an incident if there was this year"
   ]
  },
  {
   "cell_type": "code",
   "execution_count": 17,
   "metadata": {},
   "outputs": [],
   "source": [
    "y_b1 = X_test[TARGET+'_thisyear']"
   ]
  },
  {
   "cell_type": "code",
   "execution_count": 18,
   "metadata": {},
   "outputs": [
    {
     "data": {
      "text/plain": [
       "0.09340076523847407"
      ]
     },
     "execution_count": 18,
     "metadata": {},
     "output_type": "execute_result"
    }
   ],
   "source": [
    "mean_absolute_error(y_test, y_b1)"
   ]
  },
  {
   "cell_type": "code",
   "execution_count": 19,
   "metadata": {},
   "outputs": [],
   "source": [
    "feature_importances = dict(zip(numerical_features, full_pipeline.steps[-1][1].coef_))"
   ]
  },
  {
   "cell_type": "code",
   "execution_count": 20,
   "metadata": {},
   "outputs": [
    {
     "data": {
      "text/plain": [
       "{'Desc_gr_clean_Alarmes-incendies_thisyear': 0.7635888559075151,\n",
       " 'Desc_gr_clean_Autres incendies_thisyear': 0.21000017359973544,\n",
       " 'Desc_gr_clean_Fausses alertes/annulations_thisyear': 0.055082842765944565,\n",
       " 'Desc_gr_clean_Nouveau_thisyear': -0.043329119485634573,\n",
       " 'Desc_gr_clean_Premier répondant_thisyear': 0.15798648507618246,\n",
       " 'Desc_gr_clean_Sans incendie_thisyear': 1.2554087364564577,\n",
       " 'Num_units_total_thisyear': 1.0385081550821866,\n",
       " 'Num_units_mean_thisyear': 0.3115466667561198,\n",
       " 'Num_units_median_thisyear': -0.1827054277325416,\n",
       " 'population_thisyear': 0.026954381358218506,\n",
       " 'total_dwellings_thisyear': 0.009936579732491539,\n",
       " 'gr_0_to_14_years_thisyear': -0.0054715280751750596,\n",
       " 'gr_15_to_29_ years_thisyear': -0.09807933875546634,\n",
       " 'gr_30_to_64_years_thisyear': 0.06229921946388537,\n",
       " 'gr_65_years_+_thisyear': -0.017217999046224005,\n",
       " 'gr_married_commomlawpartner_thisyear': -0.07555548496703798,\n",
       " 'income_per_capita_thisyear': 0.012251090174588227,\n",
       " 'Income_0_to_35K_thisyear': 0.13521835304623483,\n",
       " 'Income_35K_to_70K_thisyear': 0.03694984737746069,\n",
       " 'Income_70K+_thisyear': 0.07491584051618938,\n",
       " 'population tax payers_thisyear': -0.03313611136594051}"
      ]
     },
     "execution_count": 20,
     "metadata": {},
     "output_type": "execute_result"
    }
   ],
   "source": [
    "feature_importances"
   ]
  },
  {
   "cell_type": "code",
   "execution_count": null,
   "metadata": {},
   "outputs": [],
   "source": []
  },
  {
   "cell_type": "code",
   "execution_count": null,
   "metadata": {},
   "outputs": [],
   "source": []
  }
 ],
 "metadata": {
  "kernelspec": {
   "display_name": "Python 3",
   "language": "python",
   "name": "python3"
  },
  "language_info": {
   "codemirror_mode": {
    "name": "ipython",
    "version": 3
   },
   "file_extension": ".py",
   "mimetype": "text/x-python",
   "name": "python",
   "nbconvert_exporter": "python",
   "pygments_lexer": "ipython3",
   "version": "3.7.2"
  }
 },
 "nbformat": 4,
 "nbformat_minor": 2
}
