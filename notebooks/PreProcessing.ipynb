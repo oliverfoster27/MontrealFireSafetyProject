{
 "cells": [
  {
   "cell_type": "code",
   "execution_count": 32,
   "metadata": {},
   "outputs": [],
   "source": [
    "from shapely.geometry import Point\n",
    "from shapely.geometry.polygon import Polygon\n",
    "import geopandas as gpd\n",
    "import pandas as pd\n",
    "import seaborn as sns"
   ]
  },
  {
   "cell_type": "markdown",
   "metadata": {},
   "source": [
    "# Time 2 FS"
   ]
  },
  {
   "cell_type": "code",
   "execution_count": 72,
   "metadata": {},
   "outputs": [],
   "source": [
    "areas = gpd.read_file(r\"C:\\Users\\olive\\Documents\\GitHub\\MontrealFireSafetyProject\\data\\LIMADMIN.shp\",\n",
    "                     encoding='latin1')"
   ]
  },
  {
   "cell_type": "code",
   "execution_count": 73,
   "metadata": {},
   "outputs": [
    {
     "name": "stderr",
     "output_type": "stream",
     "text": [
      "C:\\Users\\olive\\AppData\\Local\\Continuum\\anaconda3\\envs\\deeplearning\\lib\\site-packages\\geopandas\\tools\\sjoin.py:61: UserWarning: CRS of frames being joined does not match!({'init': 'epsg:4326'} != None)\n",
      "  \"(%s != %s)\" % (left_df.crs, right_df.crs)\n"
     ]
    },
    {
     "data": {
      "text/plain": [
       "<matplotlib.axes._subplots.AxesSubplot at 0x27e78a61d68>"
      ]
     },
     "execution_count": 73,
     "metadata": {},
     "output_type": "execute_result"
    },
    {
     "data": {
      "image/png": "[encoded data removed]",
      "text/plain": [
       "<Figure size 432x288 with 1 Axes>"
      ]
     },
     "metadata": {
      "needs_background": "light"
     },
     "output_type": "display_data"
    }
   ],
   "source": [
    "corners = pd.read_csv(r\"C:\\Users\\olive\\Documents\\GitHub\\MontrealFireSafetyProject\\data\\node_data_time2_cleaned.csv\",\n",
    "                     index_col=0, encoding='latin1')\n",
    "corners = corners.loc[corners['TIME_TO_FS'] != 1000]\n",
    "geom = corners.apply(lambda x : Point([x[\"Longitude\"],x[\"Latitude\"]]), axis=1)\n",
    "corners = gpd.GeoDataFrame(corners, geometry=geom) #geom is a Series\n",
    "joins = gpd.sjoin(areas, corners, how=\"right\", op=\"contains\")\n",
    "sns.heatmap(joins.isnull(), cbar=False)"
   ]
  },
  {
   "cell_type": "code",
   "execution_count": 85,
   "metadata": {},
   "outputs": [],
   "source": [
    "grp = joins.groupby(['NOM']).agg({'TIME_TO_FS': ['mean']})"
   ]
  },
  {
   "cell_type": "code",
   "execution_count": 86,
   "metadata": {
    "scrolled": true
   },
   "outputs": [
    {
     "data": {
      "text/html": [
       "<div>\n",
       "<style scoped>\n",
       "    .dataframe tbody tr th:only-of-type {\n",
       "        vertical-align: middle;\n",
       "    }\n",
       "\n",
       "    .dataframe tbody tr th {\n",
       "        vertical-align: top;\n",
       "    }\n",
       "\n",
       "    .dataframe thead th {\n",
       "        text-align: right;\n",
       "    }\n",
       "</style>\n",
       "<table border=\"1\" class=\"dataframe\">\n",
       "  <thead>\n",
       "    <tr style=\"text-align: right;\">\n",
       "      <th></th>\n",
       "      <th>Average travel time required to nearest Fire Station (hours)</th>\n",
       "    </tr>\n",
       "    <tr>\n",
       "      <th>NOM</th>\n",
       "      <th></th>\n",
       "    </tr>\n",
       "  </thead>\n",
       "  <tbody>\n",
       "    <tr>\n",
       "      <th>L'Île-Bizard-Sainte-Geneviève</th>\n",
       "      <td>1.817250</td>\n",
       "    </tr>\n",
       "    <tr>\n",
       "      <th>Pierrefonds-Roxboro</th>\n",
       "      <td>0.585997</td>\n",
       "    </tr>\n",
       "    <tr>\n",
       "      <th>LaSalle</th>\n",
       "      <td>0.313530</td>\n",
       "    </tr>\n",
       "    <tr>\n",
       "      <th>Verdun</th>\n",
       "      <td>0.215166</td>\n",
       "    </tr>\n",
       "    <tr>\n",
       "      <th>Dollard-des-Ormeaux</th>\n",
       "      <td>0.117471</td>\n",
       "    </tr>\n",
       "    <tr>\n",
       "      <th>Senneville</th>\n",
       "      <td>0.108621</td>\n",
       "    </tr>\n",
       "    <tr>\n",
       "      <th>Villeray-Saint-Michel-Parc-Extension</th>\n",
       "      <td>0.054000</td>\n",
       "    </tr>\n",
       "    <tr>\n",
       "      <th>Rivière-des-Prairies-Pointe-aux-Trembles</th>\n",
       "      <td>0.044972</td>\n",
       "    </tr>\n",
       "    <tr>\n",
       "      <th>Ahuntsic-Cartierville</th>\n",
       "      <td>0.041738</td>\n",
       "    </tr>\n",
       "    <tr>\n",
       "      <th>Saint-Laurent</th>\n",
       "      <td>0.040288</td>\n",
       "    </tr>\n",
       "    <tr>\n",
       "      <th>Montréal-Nord</th>\n",
       "      <td>0.039405</td>\n",
       "    </tr>\n",
       "    <tr>\n",
       "      <th>Kirkland</th>\n",
       "      <td>0.039304</td>\n",
       "    </tr>\n",
       "    <tr>\n",
       "      <th>Rosemont-La Petite-Patrie</th>\n",
       "      <td>0.038732</td>\n",
       "    </tr>\n",
       "    <tr>\n",
       "      <th>Le Plateau-Mont-Royal</th>\n",
       "      <td>0.038323</td>\n",
       "    </tr>\n",
       "    <tr>\n",
       "      <th>Anjou</th>\n",
       "      <td>0.038023</td>\n",
       "    </tr>\n",
       "    <tr>\n",
       "      <th>Mercier-Hochelaga-Maisonneuve</th>\n",
       "      <td>0.037973</td>\n",
       "    </tr>\n",
       "    <tr>\n",
       "      <th>Outremont</th>\n",
       "      <td>0.037557</td>\n",
       "    </tr>\n",
       "    <tr>\n",
       "      <th>Dorval</th>\n",
       "      <td>0.034649</td>\n",
       "    </tr>\n",
       "    <tr>\n",
       "      <th>Saint-Léonard</th>\n",
       "      <td>0.033277</td>\n",
       "    </tr>\n",
       "    <tr>\n",
       "      <th>Sainte-Anne-de-Bellevue</th>\n",
       "      <td>0.031846</td>\n",
       "    </tr>\n",
       "    <tr>\n",
       "      <th>Westmount</th>\n",
       "      <td>0.031803</td>\n",
       "    </tr>\n",
       "    <tr>\n",
       "      <th>Ville-Marie</th>\n",
       "      <td>0.030809</td>\n",
       "    </tr>\n",
       "    <tr>\n",
       "      <th>Montréal-Est</th>\n",
       "      <td>0.030061</td>\n",
       "    </tr>\n",
       "    <tr>\n",
       "      <th>Côte-Saint-Luc</th>\n",
       "      <td>0.028947</td>\n",
       "    </tr>\n",
       "    <tr>\n",
       "      <th>Mont-Royal</th>\n",
       "      <td>0.025106</td>\n",
       "    </tr>\n",
       "    <tr>\n",
       "      <th>Beaconsfield</th>\n",
       "      <td>0.024226</td>\n",
       "    </tr>\n",
       "    <tr>\n",
       "      <th>Côte-des-Neiges-Notre-Dame-de-Grâce</th>\n",
       "      <td>0.023451</td>\n",
       "    </tr>\n",
       "    <tr>\n",
       "      <th>Lachine</th>\n",
       "      <td>0.021580</td>\n",
       "    </tr>\n",
       "    <tr>\n",
       "      <th>Le Sud-Ouest</th>\n",
       "      <td>0.021405</td>\n",
       "    </tr>\n",
       "    <tr>\n",
       "      <th>Pointe-Claire</th>\n",
       "      <td>0.019477</td>\n",
       "    </tr>\n",
       "    <tr>\n",
       "      <th>Baie-d'Urfé</th>\n",
       "      <td>0.014864</td>\n",
       "    </tr>\n",
       "    <tr>\n",
       "      <th>Hampstead</th>\n",
       "      <td>0.013839</td>\n",
       "    </tr>\n",
       "    <tr>\n",
       "      <th>Montréal-Ouest</th>\n",
       "      <td>0.013196</td>\n",
       "    </tr>\n",
       "  </tbody>\n",
       "</table>\n",
       "</div>"
      ],
      "text/plain": [
       "                                          Average travel time required to nearest Fire Station (hours)\n",
       "NOM                                                                                                   \n",
       "L'Île-Bizard-Sainte-Geneviève                                                      1.817250           \n",
       "Pierrefonds-Roxboro                                                                0.585997           \n",
       "LaSalle                                                                            0.313530           \n",
       "Verdun                                                                             0.215166           \n",
       "Dollard-des-Ormeaux                                                                0.117471           \n",
       "Senneville                                                                         0.108621           \n",
       "Villeray-Saint-Michel-Parc-Extension                                               0.054000           \n",
       "Rivière-des-Prairies-Pointe-aux-Trembles                                           0.044972           \n",
       "Ahuntsic-Cartierville                                                              0.041738           \n",
       "Saint-Laurent                                                                      0.040288           \n",
       "Montréal-Nord                                                                      0.039405           \n",
       "Kirkland                                                                           0.039304           \n",
       "Rosemont-La Petite-Patrie                                                          0.038732           \n",
       "Le Plateau-Mont-Royal                                                              0.038323           \n",
       "Anjou                                                                              0.038023           \n",
       "Mercier-Hochelaga-Maisonneuve                                                      0.037973           \n",
       "Outremont                                                                          0.037557           \n",
       "Dorval                                                                             0.034649           \n",
       "Saint-Léonard                                                                      0.033277           \n",
       "Sainte-Anne-de-Bellevue                                                            0.031846           \n",
       "Westmount                                                                          0.031803           \n",
       "Ville-Marie                                                                        0.030809           \n",
       "Montréal-Est                                                                       0.030061           \n",
       "Côte-Saint-Luc                                                                     0.028947           \n",
       "Mont-Royal                                                                         0.025106           \n",
       "Beaconsfield                                                                       0.024226           \n",
       "Côte-des-Neiges-Notre-Dame-de-Grâce                                                0.023451           \n",
       "Lachine                                                                            0.021580           \n",
       "Le Sud-Ouest                                                                       0.021405           \n",
       "Pointe-Claire                                                                      0.019477           \n",
       "Baie-d'Urfé                                                                        0.014864           \n",
       "Hampstead                                                                          0.013839           \n",
       "Montréal-Ouest                                                                     0.013196           "
      ]
     },
     "execution_count": 86,
     "metadata": {},
     "output_type": "execute_result"
    }
   ],
   "source": [
    "grp.columns = grp.columns.get_level_values(0)\n",
    "grp = grp.rename({'TIME_TO_FS': 'Average travel time required to nearest Fire Station (hours)'}, axis=1)\n",
    "grp.sort_values('Average travel time required to nearest Fire Station (hours)', ascending=False)"
   ]
  },
  {
   "cell_type": "code",
   "execution_count": 97,
   "metadata": {},
   "outputs": [],
   "source": [
    "out = pd.merge(grp, areas.set_index(['NOM'], drop=True), left_index=True, right_index=True)"
   ]
  },
  {
   "cell_type": "code",
   "execution_count": 103,
   "metadata": {},
   "outputs": [],
   "source": [
    "crs = {'init': 'epsg:4326'}\n",
    "gdf = gpd.GeoDataFrame(out.drop(['geometry'], axis=1), crs=crs, geometry=out['geometry'])"
   ]
  },
  {
   "cell_type": "code",
   "execution_count": 107,
   "metadata": {},
   "outputs": [],
   "source": [
    "gdf.reset_index().to_file(r\"C:\\Users\\olive\\Documents\\GitHub\\MontrealFireSafetyProject\\data/time2fs.shp\")"
   ]
  },
  {
   "cell_type": "markdown",
   "metadata": {},
   "source": [
    "# Dist 2 FS"
   ]
  },
  {
   "cell_type": "code",
   "execution_count": 108,
   "metadata": {},
   "outputs": [
    {
     "name": "stderr",
     "output_type": "stream",
     "text": [
      "C:\\Users\\olive\\AppData\\Local\\Continuum\\anaconda3\\envs\\deeplearning\\lib\\site-packages\\geopandas\\tools\\sjoin.py:61: UserWarning: CRS of frames being joined does not match!({'init': 'epsg:4326'} != None)\n",
      "  \"(%s != %s)\" % (left_df.crs, right_df.crs)\n"
     ]
    },
    {
     "data": {
      "text/plain": [
       "<matplotlib.axes._subplots.AxesSubplot at 0x27e0e29ea20>"
      ]
     },
     "execution_count": 108,
     "metadata": {},
     "output_type": "execute_result"
    },
    {
     "data": {
      "image/png": "[encoded data removed]",
      "text/plain": [
       "<Figure size 432x288 with 1 Axes>"
      ]
     },
     "metadata": {
      "needs_background": "light"
     },
     "output_type": "display_data"
    }
   ],
   "source": [
    "corners = pd.read_csv(r\"C:\\Users\\olive\\Documents\\GitHub\\MontrealFireSafetyProject\\data\\node_data_cleaned.csv\",\n",
    "                     index_col=0, encoding='latin1')\n",
    "corners = corners.loc[corners['DIST_TO_FS'] != 1000]\n",
    "geom = corners.apply(lambda x : Point([x[\"Longitude\"],x[\"Latitude\"]]), axis=1)\n",
    "corners = gpd.GeoDataFrame(corners, geometry=geom) #geom is a Series\n",
    "joins = gpd.sjoin(areas, corners, how=\"right\", op=\"contains\")\n",
    "sns.heatmap(joins.isnull(), cbar=False)"
   ]
  },
  {
   "cell_type": "code",
   "execution_count": 109,
   "metadata": {},
   "outputs": [],
   "source": [
    "grp = joins.groupby(['NOM']).agg({'DIST_TO_FS': ['mean']})"
   ]
  },
  {
   "cell_type": "code",
   "execution_count": 110,
   "metadata": {},
   "outputs": [
    {
     "data": {
      "text/html": [
       "<div>\n",
       "<style scoped>\n",
       "    .dataframe tbody tr th:only-of-type {\n",
       "        vertical-align: middle;\n",
       "    }\n",
       "\n",
       "    .dataframe tbody tr th {\n",
       "        vertical-align: top;\n",
       "    }\n",
       "\n",
       "    .dataframe thead th {\n",
       "        text-align: right;\n",
       "    }\n",
       "</style>\n",
       "<table border=\"1\" class=\"dataframe\">\n",
       "  <thead>\n",
       "    <tr style=\"text-align: right;\">\n",
       "      <th></th>\n",
       "      <th>Average distance to nearest Fire Station (km)</th>\n",
       "    </tr>\n",
       "    <tr>\n",
       "      <th>NOM</th>\n",
       "      <th></th>\n",
       "    </tr>\n",
       "  </thead>\n",
       "  <tbody>\n",
       "    <tr>\n",
       "      <th>Senneville</th>\n",
       "      <td>2.333275</td>\n",
       "    </tr>\n",
       "    <tr>\n",
       "      <th>Dorval</th>\n",
       "      <td>2.123995</td>\n",
       "    </tr>\n",
       "    <tr>\n",
       "      <th>Kirkland</th>\n",
       "      <td>2.110505</td>\n",
       "    </tr>\n",
       "    <tr>\n",
       "      <th>Dollard-des-Ormeaux</th>\n",
       "      <td>2.008051</td>\n",
       "    </tr>\n",
       "    <tr>\n",
       "      <th>Pointe-Claire</th>\n",
       "      <td>1.992911</td>\n",
       "    </tr>\n",
       "    <tr>\n",
       "      <th>Sainte-Anne-de-Bellevue</th>\n",
       "      <td>1.973865</td>\n",
       "    </tr>\n",
       "    <tr>\n",
       "      <th>L'Île-Bizard-Sainte-Geneviève</th>\n",
       "      <td>1.918367</td>\n",
       "    </tr>\n",
       "    <tr>\n",
       "      <th>Beaconsfield</th>\n",
       "      <td>1.892790</td>\n",
       "    </tr>\n",
       "    <tr>\n",
       "      <th>Saint-Laurent</th>\n",
       "      <td>1.887281</td>\n",
       "    </tr>\n",
       "    <tr>\n",
       "      <th>LaSalle</th>\n",
       "      <td>1.780833</td>\n",
       "    </tr>\n",
       "    <tr>\n",
       "      <th>Lachine</th>\n",
       "      <td>1.739057</td>\n",
       "    </tr>\n",
       "    <tr>\n",
       "      <th>Anjou</th>\n",
       "      <td>1.728558</td>\n",
       "    </tr>\n",
       "    <tr>\n",
       "      <th>Pierrefonds-Roxboro</th>\n",
       "      <td>1.722328</td>\n",
       "    </tr>\n",
       "    <tr>\n",
       "      <th>Côte-Saint-Luc</th>\n",
       "      <td>1.685995</td>\n",
       "    </tr>\n",
       "    <tr>\n",
       "      <th>Rivière-des-Prairies-Pointe-aux-Trembles</th>\n",
       "      <td>1.615904</td>\n",
       "    </tr>\n",
       "    <tr>\n",
       "      <th>Baie-d'Urfé</th>\n",
       "      <td>1.558487</td>\n",
       "    </tr>\n",
       "    <tr>\n",
       "      <th>Montréal-Est</th>\n",
       "      <td>1.520652</td>\n",
       "    </tr>\n",
       "    <tr>\n",
       "      <th>Verdun</th>\n",
       "      <td>1.434700</td>\n",
       "    </tr>\n",
       "    <tr>\n",
       "      <th>Ahuntsic-Cartierville</th>\n",
       "      <td>1.401469</td>\n",
       "    </tr>\n",
       "    <tr>\n",
       "      <th>Mercier-Hochelaga-Maisonneuve</th>\n",
       "      <td>1.393917</td>\n",
       "    </tr>\n",
       "    <tr>\n",
       "      <th>Saint-Léonard</th>\n",
       "      <td>1.268774</td>\n",
       "    </tr>\n",
       "    <tr>\n",
       "      <th>Mont-Royal</th>\n",
       "      <td>1.207525</td>\n",
       "    </tr>\n",
       "    <tr>\n",
       "      <th>Montréal-Nord</th>\n",
       "      <td>1.190002</td>\n",
       "    </tr>\n",
       "    <tr>\n",
       "      <th>Villeray-Saint-Michel-Parc-Extension</th>\n",
       "      <td>1.115468</td>\n",
       "    </tr>\n",
       "    <tr>\n",
       "      <th>Le Sud-Ouest</th>\n",
       "      <td>1.053221</td>\n",
       "    </tr>\n",
       "    <tr>\n",
       "      <th>Westmount</th>\n",
       "      <td>1.025236</td>\n",
       "    </tr>\n",
       "    <tr>\n",
       "      <th>Côte-des-Neiges-Notre-Dame-de-Grâce</th>\n",
       "      <td>1.021401</td>\n",
       "    </tr>\n",
       "    <tr>\n",
       "      <th>Rosemont-La Petite-Patrie</th>\n",
       "      <td>1.020906</td>\n",
       "    </tr>\n",
       "    <tr>\n",
       "      <th>Hampstead</th>\n",
       "      <td>0.948456</td>\n",
       "    </tr>\n",
       "    <tr>\n",
       "      <th>Ville-Marie</th>\n",
       "      <td>0.929660</td>\n",
       "    </tr>\n",
       "    <tr>\n",
       "      <th>Outremont</th>\n",
       "      <td>0.916217</td>\n",
       "    </tr>\n",
       "    <tr>\n",
       "      <th>Montréal-Ouest</th>\n",
       "      <td>0.834939</td>\n",
       "    </tr>\n",
       "    <tr>\n",
       "      <th>Le Plateau-Mont-Royal</th>\n",
       "      <td>0.744118</td>\n",
       "    </tr>\n",
       "  </tbody>\n",
       "</table>\n",
       "</div>"
      ],
      "text/plain": [
       "                                          Average distance to nearest Fire Station (km)\n",
       "NOM                                                                                    \n",
       "Senneville                                                                     2.333275\n",
       "Dorval                                                                         2.123995\n",
       "Kirkland                                                                       2.110505\n",
       "Dollard-des-Ormeaux                                                            2.008051\n",
       "Pointe-Claire                                                                  1.992911\n",
       "Sainte-Anne-de-Bellevue                                                        1.973865\n",
       "L'Île-Bizard-Sainte-Geneviève                                                  1.918367\n",
       "Beaconsfield                                                                   1.892790\n",
       "Saint-Laurent                                                                  1.887281\n",
       "LaSalle                                                                        1.780833\n",
       "Lachine                                                                        1.739057\n",
       "Anjou                                                                          1.728558\n",
       "Pierrefonds-Roxboro                                                            1.722328\n",
       "Côte-Saint-Luc                                                                 1.685995\n",
       "Rivière-des-Prairies-Pointe-aux-Trembles                                       1.615904\n",
       "Baie-d'Urfé                                                                    1.558487\n",
       "Montréal-Est                                                                   1.520652\n",
       "Verdun                                                                         1.434700\n",
       "Ahuntsic-Cartierville                                                          1.401469\n",
       "Mercier-Hochelaga-Maisonneuve                                                  1.393917\n",
       "Saint-Léonard                                                                  1.268774\n",
       "Mont-Royal                                                                     1.207525\n",
       "Montréal-Nord                                                                  1.190002\n",
       "Villeray-Saint-Michel-Parc-Extension                                           1.115468\n",
       "Le Sud-Ouest                                                                   1.053221\n",
       "Westmount                                                                      1.025236\n",
       "Côte-des-Neiges-Notre-Dame-de-Grâce                                            1.021401\n",
       "Rosemont-La Petite-Patrie                                                      1.020906\n",
       "Hampstead                                                                      0.948456\n",
       "Ville-Marie                                                                    0.929660\n",
       "Outremont                                                                      0.916217\n",
       "Montréal-Ouest                                                                 0.834939\n",
       "Le Plateau-Mont-Royal                                                          0.744118"
      ]
     },
     "execution_count": 110,
     "metadata": {},
     "output_type": "execute_result"
    }
   ],
   "source": [
    "grp.columns = grp.columns.get_level_values(0)\n",
    "grp = grp.rename({'DIST_TO_FS': 'Average distance to nearest Fire Station (km)'}, axis=1)\n",
    "grp.sort_values('Average distance to nearest Fire Station (km)', ascending=False)"
   ]
  },
  {
   "cell_type": "code",
   "execution_count": 113,
   "metadata": {},
   "outputs": [],
   "source": [
    "out = pd.merge(grp, areas.set_index(['NOM'], drop=True), left_index=True, right_index=True)"
   ]
  },
  {
   "cell_type": "code",
   "execution_count": 114,
   "metadata": {},
   "outputs": [],
   "source": [
    "crs = {'init': 'epsg:4326'}\n",
    "gdf = gpd.GeoDataFrame(out.drop(['geometry'], axis=1), crs=crs, geometry=out['geometry'])\n",
    "gdf.reset_index().to_file(r\"C:\\Users\\olive\\Documents\\GitHub\\MontrealFireSafetyProject\\data\\dist2fs.shp\")"
   ]
  },
  {
   "cell_type": "code",
   "execution_count": null,
   "metadata": {},
   "outputs": [],
   "source": []
  }
 ],
 "metadata": {
  "kernelspec": {
   "display_name": "Python 3",
   "language": "python",
   "name": "python3"
  },
  "language_info": {
   "codemirror_mode": {
    "name": "ipython",
    "version": 3
   },
   "file_extension": ".py",
   "mimetype": "text/x-python",
   "name": "python",
   "nbconvert_exporter": "python",
   "pygments_lexer": "ipython3",
   "version": "3.7.2"
  }
 },
 "nbformat": 4,
 "nbformat_minor": 2
}
