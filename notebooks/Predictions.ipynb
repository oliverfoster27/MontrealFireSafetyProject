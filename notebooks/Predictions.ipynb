{
 "cells": [
  {
   "cell_type": "code",
   "execution_count": null,
   "metadata": {},
   "outputs": [],
   "source": [
    "import numpy as np\n",
    "import pandas as pd\n",
    "from sklearn.base import BaseEstimator, TransformerMixin\n",
    "from sklearn.preprocessing import OneHotEncoder, StandardScaler\n",
    "from sklearn.impute import SimpleImputer\n",
    "from sklearn.pipeline import make_pipeline, FeatureUnion, Pipeline\n",
    "from sklearn.linear_model import LogisticRegression\n",
    "from sklearn.model_selection import train_test_split\n",
    "from sklearn.metrics import accuracy_score\n",
    "from sklearn.model_selection import GridSearchCV\n",
    "from sklearn.svm import SVC\n",
    "from sklearn.ensemble import GradientBoostingClassifier\n",
    "from sklearn.ensemble import RandomForestClassifier\n",
    "from sklearn.ensemble import BaggingClassifier\n",
    "from collections import namedtuple\n",
    "from sklearn.tree import DecisionTreeClassifier\n",
    "from sklearn.feature_selection import RFE, SelectFromModel\n",
    "from sklearn.metrics import fbeta_score\n",
    "from sklearn.metrics.scorer import make_scorer\n",
    "from sklearn.metrics import f1_score\n",
    "from sklearn.compose import ColumnTransformer\n",
    "from sklearn.preprocessing import MinMaxScaler\n",
    "import seaborn as sns"
   ]
  },
  {
   "cell_type": "code",
   "execution_count": 9,
   "metadata": {},
   "outputs": [],
   "source": [
    "Grid = namedtuple(\"Grid\", ['model', 'param_grid'])"
   ]
  },
  {
   "cell_type": "code",
   "execution_count": 10,
   "metadata": {},
   "outputs": [],
   "source": [
    "grids = [\n",
    "    Grid(LogisticRegression,\n",
    "         {'estimator__solver': ('liblinear',)}),\n",
    "    Grid(BaggingClassifier,\n",
    "        {'estimator__n_estimators': (10, 200, 400, 800),\n",
    "         'estimator__max_samples': (0.2, 0.4, 0.8, 1.0),\n",
    "         'estimator__max_features': (0.2, 0.4, 0.8, 1.0)}),\n",
    "    Grid(RandomForestClassifier,\n",
    "        {'estimator__max_depth': (75, 100, None),\n",
    "         'estimator__max_features': ('auto', 'log2', None),\n",
    "         'estimator__n_estimators': (10, 200, 400, 600, 800)}),\n",
    "    Grid(GradientBoostingClassifier,\n",
    "         {'estimator__max_depth': (3, 4, 5),\n",
    "          'estimator__max_features': ('auto', 'log2', None),\n",
    "          'estimator__n_estimators': (10, 100, 200, 400, 800)}),\n",
    "    Grid(SVC,\n",
    "    {\"estimator__C\": (4, 8, 12),\n",
    "     \"estimator__degree\": (3, 4, 5)})\n",
    "]"
   ]
  },
  {
   "cell_type": "markdown",
   "metadata": {},
   "source": [
    "# Notes\n",
    "- Once i recieve the data - offset the target column by 1 so one year predicts the next\n",
    "- Drop all polygon data & assume we have sufficient features to predict the next year\n",
    "- Each row represents the status of a given polygon & the incidents that year"
   ]
  },
  {
   "cell_type": "code",
   "execution_count": 11,
   "metadata": {},
   "outputs": [],
   "source": [
    "def get_next_year(year, region, df):\n",
    "    if year+1 not in set(df[YEAR_COL]):\n",
    "        return float('nan')\n",
    "    return df.loc[(df[YEAR_COL]==year+1) & (df[REGION_COL]==region), TARGET].values[0]"
   ]
  },
  {
   "cell_type": "code",
   "execution_count": 57,
   "metadata": {},
   "outputs": [],
   "source": [
    "df = pd.read_csv(r\"C:\\Users\\olive\\Documents\\GitHub\\MontrealFireSafetyProject\\data\\all_data_clean.csv\", index_col=0)\n",
    "\n",
    "TARGET = 'incident'\n",
    "YEAR_COL = 'Year'\n",
    "REGION_COL = 'Poly_Key'\n",
    "\n",
    "df[REGION_COL] = df[REGION_COL].astype('str')\n",
    "df['Next Year'] = df['Year'].apply(lambda x: int(x+1))\n",
    "\n",
    "left = df.copy()\n",
    "right = df.copy()\n",
    "\n",
    "left['idx'] = left.apply(lambda row: \"{}_{}\".format(row['Poly_Key'], row['Year']), axis=1)\n",
    "right['idx'] = right.apply(lambda row: \"{}_{}\".format(row['Poly_Key'], row['Next Year']), axis=1)\n",
    "\n",
    "left = left.set_index(['idx'], drop=True)\n",
    "right = right.set_index(['idx'], drop=True)\n",
    "\n",
    "tot = left.join(right, lsuffix='_nextyear', rsuffix='_thisyear', how='inner')\n",
    "tot = tot[['Poly_Key_nextyear', 'Building_fire_nextyear', 'incident_nextyear', \n",
    "           *[x for x in tot.columns if x[-9:]=='_thisyear']]]\n",
    "\n",
    "tot = tot.drop(['Next Year_thisyear'], axis=1)\n",
    "tot = tot.set_index(['Poly_Key_thisyear', 'Year_thisyear'], drop=True)\n",
    "\n",
    "df = tot.reset_index(drop=True).copy()\n",
    "X, y = df.drop([TARGET + '_nextyear'], axis=1), df[TARGET + '_nextyear']\n",
    "y = y.apply(lambda x: 1 if x > 0 else 0)"
   ]
  },
  {
   "cell_type": "code",
   "execution_count": 58,
   "metadata": {},
   "outputs": [],
   "source": [
    "X_train, X_test, y_train, y_test = train_test_split(X, y, test_size=0.3)"
   ]
  },
  {
   "cell_type": "code",
   "execution_count": 59,
   "metadata": {},
   "outputs": [
    {
     "data": {
      "text/html": [
       "<div>\n",
       "<style scoped>\n",
       "    .dataframe tbody tr th:only-of-type {\n",
       "        vertical-align: middle;\n",
       "    }\n",
       "\n",
       "    .dataframe tbody tr th {\n",
       "        vertical-align: top;\n",
       "    }\n",
       "\n",
       "    .dataframe thead th {\n",
       "        text-align: right;\n",
       "    }\n",
       "</style>\n",
       "<table border=\"1\" class=\"dataframe\">\n",
       "  <thead>\n",
       "    <tr style=\"text-align: right;\">\n",
       "      <th></th>\n",
       "      <th>Poly_Key_nextyear</th>\n",
       "      <th>Building_fire_nextyear</th>\n",
       "      <th>CFSAUID_thisyear</th>\n",
       "      <th>Building_fire_thisyear</th>\n",
       "      <th>incident_thisyear</th>\n",
       "      <th>Desc_gr_clean_Alarmes-incendies_thisyear</th>\n",
       "      <th>Desc_gr_clean_Autres incendies_thisyear</th>\n",
       "      <th>Desc_gr_clean_Fausses alertes/annulations_thisyear</th>\n",
       "      <th>Desc_gr_clean_Nouveau_thisyear</th>\n",
       "      <th>Desc_gr_clean_Premier répondant_thisyear</th>\n",
       "      <th>...</th>\n",
       "      <th>gr_0_to_14_years_thisyear</th>\n",
       "      <th>gr_15_to_29_ years_thisyear</th>\n",
       "      <th>gr_30_to_64_years_thisyear</th>\n",
       "      <th>gr_65_years_+_thisyear</th>\n",
       "      <th>gr_married_commomlawpartner_thisyear</th>\n",
       "      <th>income_per_capita_thisyear</th>\n",
       "      <th>Income_0_to_35K_thisyear</th>\n",
       "      <th>Income_35K_to_70K_thisyear</th>\n",
       "      <th>Income_70K+_thisyear</th>\n",
       "      <th>population tax payers_thisyear</th>\n",
       "    </tr>\n",
       "  </thead>\n",
       "  <tbody>\n",
       "    <tr>\n",
       "      <th>334698</th>\n",
       "      <td>POLYGON ((-73.80030381717036 45.49517336625862...</td>\n",
       "      <td>0.0</td>\n",
       "      <td>H9B</td>\n",
       "      <td>0.0</td>\n",
       "      <td>5.0</td>\n",
       "      <td>2</td>\n",
       "      <td>0</td>\n",
       "      <td>0</td>\n",
       "      <td>0</td>\n",
       "      <td>3.0</td>\n",
       "      <td>...</td>\n",
       "      <td>0.16</td>\n",
       "      <td>0.19</td>\n",
       "      <td>0.45</td>\n",
       "      <td>0.20</td>\n",
       "      <td>0.47</td>\n",
       "      <td>41396.325783</td>\n",
       "      <td>0.58</td>\n",
       "      <td>0.27</td>\n",
       "      <td>0.15</td>\n",
       "      <td>16600</td>\n",
       "    </tr>\n",
       "    <tr>\n",
       "      <th>44697</th>\n",
       "      <td>POLYGON ((-73.75406397283518 45.4462415462429,...</td>\n",
       "      <td>0.0</td>\n",
       "      <td>H9S</td>\n",
       "      <td>0.0</td>\n",
       "      <td>1.0</td>\n",
       "      <td>0</td>\n",
       "      <td>0</td>\n",
       "      <td>0</td>\n",
       "      <td>0</td>\n",
       "      <td>0.0</td>\n",
       "      <td>...</td>\n",
       "      <td>0.13</td>\n",
       "      <td>0.17</td>\n",
       "      <td>0.48</td>\n",
       "      <td>0.20</td>\n",
       "      <td>0.46</td>\n",
       "      <td>57937.509624</td>\n",
       "      <td>0.46</td>\n",
       "      <td>0.30</td>\n",
       "      <td>0.24</td>\n",
       "      <td>18235</td>\n",
       "    </tr>\n",
       "    <tr>\n",
       "      <th>288102</th>\n",
       "      <td>POLYGON ((-73.67302075148918 45.53332074744709...</td>\n",
       "      <td>0.0</td>\n",
       "      <td>H4N</td>\n",
       "      <td>0.0</td>\n",
       "      <td>0.0</td>\n",
       "      <td>0</td>\n",
       "      <td>0</td>\n",
       "      <td>0</td>\n",
       "      <td>0</td>\n",
       "      <td>0.0</td>\n",
       "      <td>...</td>\n",
       "      <td>0.19</td>\n",
       "      <td>0.18</td>\n",
       "      <td>0.43</td>\n",
       "      <td>0.13</td>\n",
       "      <td>0.38</td>\n",
       "      <td>27812.305899</td>\n",
       "      <td>0.72</td>\n",
       "      <td>0.20</td>\n",
       "      <td>0.07</td>\n",
       "      <td>21615</td>\n",
       "    </tr>\n",
       "    <tr>\n",
       "      <th>196600</th>\n",
       "      <td>POLYGON ((-73.5838727421382 45.49549595730367,...</td>\n",
       "      <td>0.0</td>\n",
       "      <td>H3H</td>\n",
       "      <td>0.0</td>\n",
       "      <td>21.0</td>\n",
       "      <td>8</td>\n",
       "      <td>1</td>\n",
       "      <td>0</td>\n",
       "      <td>0</td>\n",
       "      <td>11.0</td>\n",
       "      <td>...</td>\n",
       "      <td>0.06</td>\n",
       "      <td>0.42</td>\n",
       "      <td>0.38</td>\n",
       "      <td>0.14</td>\n",
       "      <td>0.33</td>\n",
       "      <td>38449.708056</td>\n",
       "      <td>0.70</td>\n",
       "      <td>0.17</td>\n",
       "      <td>0.13</td>\n",
       "      <td>14585</td>\n",
       "    </tr>\n",
       "    <tr>\n",
       "      <th>82265</th>\n",
       "      <td>POLYGON ((-73.88462916907493 45.46855329787981...</td>\n",
       "      <td>0.0</td>\n",
       "      <td>H9J</td>\n",
       "      <td>0.0</td>\n",
       "      <td>0.0</td>\n",
       "      <td>0</td>\n",
       "      <td>0</td>\n",
       "      <td>0</td>\n",
       "      <td>0</td>\n",
       "      <td>0.0</td>\n",
       "      <td>...</td>\n",
       "      <td>0.23</td>\n",
       "      <td>0.23</td>\n",
       "      <td>0.54</td>\n",
       "      <td>0.07</td>\n",
       "      <td>0.53</td>\n",
       "      <td>53589.654640</td>\n",
       "      <td>0.49</td>\n",
       "      <td>0.27</td>\n",
       "      <td>0.24</td>\n",
       "      <td>17350</td>\n",
       "    </tr>\n",
       "  </tbody>\n",
       "</table>\n",
       "<p>5 rows × 26 columns</p>\n",
       "</div>"
      ],
      "text/plain": [
       "                                        Poly_Key_nextyear  \\\n",
       "334698  POLYGON ((-73.80030381717036 45.49517336625862...   \n",
       "44697   POLYGON ((-73.75406397283518 45.4462415462429,...   \n",
       "288102  POLYGON ((-73.67302075148918 45.53332074744709...   \n",
       "196600  POLYGON ((-73.5838727421382 45.49549595730367,...   \n",
       "82265   POLYGON ((-73.88462916907493 45.46855329787981...   \n",
       "\n",
       "        Building_fire_nextyear CFSAUID_thisyear  Building_fire_thisyear  \\\n",
       "334698                     0.0              H9B                     0.0   \n",
       "44697                      0.0              H9S                     0.0   \n",
       "288102                     0.0              H4N                     0.0   \n",
       "196600                     0.0              H3H                     0.0   \n",
       "82265                      0.0              H9J                     0.0   \n",
       "\n",
       "        incident_thisyear  Desc_gr_clean_Alarmes-incendies_thisyear  \\\n",
       "334698                5.0                                         2   \n",
       "44697                 1.0                                         0   \n",
       "288102                0.0                                         0   \n",
       "196600               21.0                                         8   \n",
       "82265                 0.0                                         0   \n",
       "\n",
       "        Desc_gr_clean_Autres incendies_thisyear  \\\n",
       "334698                                        0   \n",
       "44697                                         0   \n",
       "288102                                        0   \n",
       "196600                                        1   \n",
       "82265                                         0   \n",
       "\n",
       "        Desc_gr_clean_Fausses alertes/annulations_thisyear  \\\n",
       "334698                                                  0    \n",
       "44697                                                   0    \n",
       "288102                                                  0    \n",
       "196600                                                  0    \n",
       "82265                                                   0    \n",
       "\n",
       "        Desc_gr_clean_Nouveau_thisyear  \\\n",
       "334698                               0   \n",
       "44697                                0   \n",
       "288102                               0   \n",
       "196600                               0   \n",
       "82265                                0   \n",
       "\n",
       "        Desc_gr_clean_Premier répondant_thisyear  ...  \\\n",
       "334698                                       3.0  ...   \n",
       "44697                                        0.0  ...   \n",
       "288102                                       0.0  ...   \n",
       "196600                                      11.0  ...   \n",
       "82265                                        0.0  ...   \n",
       "\n",
       "        gr_0_to_14_years_thisyear  gr_15_to_29_ years_thisyear  \\\n",
       "334698                       0.16                         0.19   \n",
       "44697                        0.13                         0.17   \n",
       "288102                       0.19                         0.18   \n",
       "196600                       0.06                         0.42   \n",
       "82265                        0.23                         0.23   \n",
       "\n",
       "        gr_30_to_64_years_thisyear  gr_65_years_+_thisyear  \\\n",
       "334698                        0.45                    0.20   \n",
       "44697                         0.48                    0.20   \n",
       "288102                        0.43                    0.13   \n",
       "196600                        0.38                    0.14   \n",
       "82265                         0.54                    0.07   \n",
       "\n",
       "        gr_married_commomlawpartner_thisyear  income_per_capita_thisyear  \\\n",
       "334698                                  0.47                41396.325783   \n",
       "44697                                   0.46                57937.509624   \n",
       "288102                                  0.38                27812.305899   \n",
       "196600                                  0.33                38449.708056   \n",
       "82265                                   0.53                53589.654640   \n",
       "\n",
       "        Income_0_to_35K_thisyear  Income_35K_to_70K_thisyear  \\\n",
       "334698                      0.58                        0.27   \n",
       "44697                       0.46                        0.30   \n",
       "288102                      0.72                        0.20   \n",
       "196600                      0.70                        0.17   \n",
       "82265                       0.49                        0.27   \n",
       "\n",
       "        Income_70K+_thisyear  population tax payers_thisyear  \n",
       "334698                  0.15                           16600  \n",
       "44697                   0.24                           18235  \n",
       "288102                  0.07                           21615  \n",
       "196600                  0.13                           14585  \n",
       "82265                   0.24                           17350  \n",
       "\n",
       "[5 rows x 26 columns]"
      ]
     },
     "execution_count": 59,
     "metadata": {},
     "output_type": "execute_result"
    }
   ],
   "source": [
    "X_train.head()"
   ]
  },
  {
   "cell_type": "code",
   "execution_count": 60,
   "metadata": {},
   "outputs": [
    {
     "data": {
      "text/plain": [
       "Index(['Poly_Key_nextyear', 'Building_fire_nextyear', 'CFSAUID_thisyear',\n",
       "       'Building_fire_thisyear', 'incident_thisyear',\n",
       "       'Desc_gr_clean_Alarmes-incendies_thisyear',\n",
       "       'Desc_gr_clean_Autres incendies_thisyear',\n",
       "       'Desc_gr_clean_Fausses alertes/annulations_thisyear',\n",
       "       'Desc_gr_clean_Nouveau_thisyear',\n",
       "       'Desc_gr_clean_Premier répondant_thisyear',\n",
       "       'Desc_gr_clean_Sans incendie_thisyear', 'Num_units_total_thisyear',\n",
       "       'Num_units_mean_thisyear', 'Num_units_median_thisyear',\n",
       "       'population_thisyear', 'total_dwellings_thisyear',\n",
       "       'gr_0_to_14_years_thisyear', 'gr_15_to_29_ years_thisyear',\n",
       "       'gr_30_to_64_years_thisyear', 'gr_65_years_+_thisyear',\n",
       "       'gr_married_commomlawpartner_thisyear', 'income_per_capita_thisyear',\n",
       "       'Income_0_to_35K_thisyear', 'Income_35K_to_70K_thisyear',\n",
       "       'Income_70K+_thisyear', 'population tax payers_thisyear'],\n",
       "      dtype='object')"
      ]
     },
     "execution_count": 60,
     "metadata": {},
     "output_type": "execute_result"
    }
   ],
   "source": [
    "X_train.columns"
   ]
  },
  {
   "cell_type": "code",
   "execution_count": 61,
   "metadata": {},
   "outputs": [],
   "source": [
    "numerical_features = [\n",
    "       'Building_fire_thisyear', 'incident_thisyear',\n",
    "       'Desc_gr_clean_Alarmes-incendies_thisyear',\n",
    "       'Desc_gr_clean_Autres incendies_thisyear',\n",
    "       'Desc_gr_clean_Fausses alertes/annulations_thisyear',\n",
    "       'Desc_gr_clean_Nouveau_thisyear',\n",
    "       'Desc_gr_clean_Premier répondant_thisyear',\n",
    "       'Desc_gr_clean_Sans incendie_thisyear', 'Num_units_total_thisyear',\n",
    "       'Num_units_mean_thisyear', 'Num_units_median_thisyear',\n",
    "       'population_thisyear', 'total_dwellings_thisyear',\n",
    "       'gr_0_to_14_years_thisyear', 'gr_15_to_29_ years_thisyear',\n",
    "       'gr_30_to_64_years_thisyear', 'gr_65_years_+_thisyear',\n",
    "       'gr_married_commomlawpartner_thisyear', 'income_per_capita_thisyear',\n",
    "       'Income_0_to_35K_thisyear', 'Income_35K_to_70K_thisyear',\n",
    "       'Income_70K+_thisyear', 'population tax payers_thisyear'\n",
    "]\n",
    "\n",
    "categorical_features = []"
   ]
  },
  {
   "cell_type": "code",
   "execution_count": 62,
   "metadata": {},
   "outputs": [],
   "source": [
    "categorical_pipeline = Pipeline(steps=[('one_hot_encoder', OneHotEncoder(sparse=False, \n",
    "                                                                         drop='first',\n",
    "                                                                         handle_unknown='error'))])"
   ]
  },
  {
   "cell_type": "code",
   "execution_count": 63,
   "metadata": {},
   "outputs": [],
   "source": [
    "numerical_pipeline = Pipeline(steps=[('min_max_scalar', MinMaxScaler())])"
   ]
  },
  {
   "cell_type": "code",
   "execution_count": 64,
   "metadata": {},
   "outputs": [],
   "source": [
    "prep_pipeline = ColumnTransformer([\n",
    "    (\"cat\", categorical_pipeline, categorical_features),\n",
    "    (\"num\", numerical_pipeline, numerical_features)\n",
    "])"
   ]
  },
  {
   "cell_type": "code",
   "execution_count": 65,
   "metadata": {},
   "outputs": [],
   "source": [
    "full_pipeline = Pipeline(steps=[('prep', prep_pipeline),\n",
    "                                #('feature_engineering', SelectFromModel(estimator=DecisionTreeClassifier(), threshold='0.5*mean')),\n",
    "                                ('estimator', LogisticRegression())])"
   ]
  },
  {
   "cell_type": "code",
   "execution_count": 66,
   "metadata": {},
   "outputs": [
    {
     "name": "stderr",
     "output_type": "stream",
     "text": [
      "C:\\Users\\olive\\AppData\\Local\\Continuum\\anaconda3\\envs\\deeplearning\\lib\\site-packages\\sklearn\\linear_model\\logistic.py:432: FutureWarning: Default solver will be changed to 'lbfgs' in 0.22. Specify a solver to silence this warning.\n",
      "  FutureWarning)\n"
     ]
    },
    {
     "data": {
      "text/plain": [
       "Pipeline(memory=None,\n",
       "         steps=[('prep',\n",
       "                 ColumnTransformer(n_jobs=None, remainder='drop',\n",
       "                                   sparse_threshold=0.3,\n",
       "                                   transformer_weights=None,\n",
       "                                   transformers=[('cat',\n",
       "                                                  Pipeline(memory=None,\n",
       "                                                           steps=[('one_hot_encoder',\n",
       "                                                                   OneHotEncoder(categorical_features=None,\n",
       "                                                                                 categories=None,\n",
       "                                                                                 drop='first',\n",
       "                                                                                 dtype=<class 'numpy.float64'>,\n",
       "                                                                                 handle_unknown='error',\n",
       "                                                                                 n_values=None,\n",
       "                                                                                 sparse=False))],\n",
       "                                                           ve...\n",
       "                                                   'Income_35K_to_70K_thisyear',\n",
       "                                                   'Income_70K+_thisyear',\n",
       "                                                   'population tax '\n",
       "                                                   'payers_thisyear'])],\n",
       "                                   verbose=False)),\n",
       "                ('estimator',\n",
       "                 LogisticRegression(C=1.0, class_weight=None, dual=False,\n",
       "                                    fit_intercept=True, intercept_scaling=1,\n",
       "                                    l1_ratio=None, max_iter=100,\n",
       "                                    multi_class='warn', n_jobs=None,\n",
       "                                    penalty='l2', random_state=None,\n",
       "                                    solver='warn', tol=0.0001, verbose=0,\n",
       "                                    warm_start=False))],\n",
       "         verbose=False)"
      ]
     },
     "execution_count": 66,
     "metadata": {},
     "output_type": "execute_result"
    }
   ],
   "source": [
    "full_pipeline.fit(X_train, y_train)"
   ]
  },
  {
   "cell_type": "code",
   "execution_count": 67,
   "metadata": {},
   "outputs": [],
   "source": [
    "y_pred = full_pipeline.predict(X_test)"
   ]
  },
  {
   "cell_type": "code",
   "execution_count": 68,
   "metadata": {},
   "outputs": [
    {
     "data": {
      "text/plain": [
       "0.835403704265759"
      ]
     },
     "execution_count": 68,
     "metadata": {},
     "output_type": "execute_result"
    }
   ],
   "source": [
    "f1_score(y_test, y_pred)"
   ]
  },
  {
   "cell_type": "code",
   "execution_count": 69,
   "metadata": {},
   "outputs": [],
   "source": [
    "from sklearn.metrics import accuracy_score"
   ]
  },
  {
   "cell_type": "code",
   "execution_count": 70,
   "metadata": {},
   "outputs": [
    {
     "data": {
      "text/plain": [
       "0.6599613592453688"
      ]
     },
     "execution_count": 70,
     "metadata": {},
     "output_type": "execute_result"
    }
   ],
   "source": [
    "len(y_test[y_test==1])/len(y_test)"
   ]
  },
  {
   "cell_type": "code",
   "execution_count": 71,
   "metadata": {},
   "outputs": [
    {
     "data": {
      "text/plain": [
       "0.7842841989620033"
      ]
     },
     "execution_count": 71,
     "metadata": {},
     "output_type": "execute_result"
    }
   ],
   "source": [
    "accuracy_score(y_test, y_pred)"
   ]
  },
  {
   "cell_type": "markdown",
   "metadata": {},
   "source": [
    "### Baseline: Predict next year there will be an incident if there was this year"
   ]
  },
  {
   "cell_type": "code",
   "execution_count": 73,
   "metadata": {},
   "outputs": [],
   "source": [
    "y_b1 = X_test['incident_thisyear']\n",
    "y_b1 = y_b1.apply(lambda x: 1 if x>0 else 0)"
   ]
  },
  {
   "cell_type": "code",
   "execution_count": 74,
   "metadata": {},
   "outputs": [
    {
     "data": {
      "text/plain": [
       "0.7849092699928022"
      ]
     },
     "execution_count": 74,
     "metadata": {},
     "output_type": "execute_result"
    }
   ],
   "source": [
    "accuracy_score(y_test, y_b1)"
   ]
  },
  {
   "cell_type": "code",
   "execution_count": 75,
   "metadata": {},
   "outputs": [],
   "source": [
    "feature_importances = dict(zip(numerical_features, full_pipeline.steps[-1][1].coef_[0, :]))"
   ]
  },
  {
   "cell_type": "code",
   "execution_count": 76,
   "metadata": {},
   "outputs": [
    {
     "data": {
      "text/plain": [
       "{'Building_fire_thisyear': -2.1405831075482626,\n",
       " 'incident_thisyear': 51.1871725206734,\n",
       " 'Desc_gr_clean_Alarmes-incendies_thisyear': 7.759257406685564,\n",
       " 'Desc_gr_clean_Autres incendies_thisyear': 6.854819467427543,\n",
       " 'Desc_gr_clean_Fausses alertes/annulations_thisyear': 1.5644352912977417,\n",
       " 'Desc_gr_clean_Nouveau_thisyear': 0.07957867796472994,\n",
       " 'Desc_gr_clean_Premier répondant_thisyear': 43.14346229360581,\n",
       " 'Desc_gr_clean_Sans incendie_thisyear': 20.29824970382592,\n",
       " 'Num_units_total_thisyear': 7.523142433618715,\n",
       " 'Num_units_mean_thisyear': 16.844833390698813,\n",
       " 'Num_units_median_thisyear': 6.304380799560657,\n",
       " 'population_thisyear': 1.401726798933922,\n",
       " 'total_dwellings_thisyear': -1.264562770257709,\n",
       " 'gr_0_to_14_years_thisyear': 0.22202197938524604,\n",
       " 'gr_15_to_29_ years_thisyear': -0.6710356969834613,\n",
       " 'gr_30_to_64_years_thisyear': 1.0797738929734615,\n",
       " 'gr_65_years_+_thisyear': 0.2176049787444417,\n",
       " 'gr_married_commomlawpartner_thisyear': -1.713122886555357,\n",
       " 'income_per_capita_thisyear': 1.485877955783411,\n",
       " 'Income_0_to_35K_thisyear': 0.8280776368042041,\n",
       " 'Income_35K_to_70K_thisyear': 0.4316789338037038,\n",
       " 'Income_70K+_thisyear': -0.30647315929710434,\n",
       " 'population tax payers_thisyear': -0.014365989670011497}"
      ]
     },
     "execution_count": 76,
     "metadata": {},
     "output_type": "execute_result"
    }
   ],
   "source": [
    "feature_importances"
   ]
  },
  {
   "cell_type": "code",
   "execution_count": null,
   "metadata": {},
   "outputs": [],
   "source": []
  }
 ],
 "metadata": {
  "kernelspec": {
   "display_name": "Python 3",
   "language": "python",
   "name": "python3"
  },
  "language_info": {
   "codemirror_mode": {
    "name": "ipython",
    "version": 3
   },
   "file_extension": ".py",
   "mimetype": "text/x-python",
   "name": "python",
   "nbconvert_exporter": "python",
   "pygments_lexer": "ipython3",
   "version": "3.7.2"
  }
 },
 "nbformat": 4,
 "nbformat_minor": 2
}
