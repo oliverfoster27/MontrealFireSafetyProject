{
 "cells": [
  {
   "cell_type": "code",
   "execution_count": null,
   "metadata": {},
   "outputs": [],
   "source": [
    "import numpy as np\n",
    "import pandas as pd\n",
    "from sklearn.base import BaseEstimator, TransformerMixin\n",
    "from sklearn.preprocessing import OneHotEncoder, StandardScaler\n",
    "from sklearn.impute import SimpleImputer\n",
    "from sklearn.pipeline import make_pipeline, FeatureUnion, Pipeline\n",
    "from sklearn.linear_model import LogisticRegression\n",
    "from sklearn.model_selection import train_test_split\n",
    "from sklearn.metrics import accuracy_score\n",
    "from sklearn.model_selection import GridSearchCV\n",
    "from sklearn.svm import SVC\n",
    "from sklearn.ensemble import GradientBoostingClassifier\n",
    "from sklearn.ensemble import RandomForestClassifier\n",
    "from sklearn.ensemble import BaggingClassifier\n",
    "from collections import namedtuple\n",
    "from sklearn.tree import DecisionTreeClassifier\n",
    "from sklearn.feature_selection import RFE, SelectFromModel\n",
    "from sklearn.metrics import fbeta_score\n",
    "from sklearn.metrics.scorer import make_scorer\n",
    "from sklearn.metrics import f1_score\n",
    "from sklearn.compose import ColumnTransformer\n",
    "from sklearn.preprocessing import MinMaxScaler\n",
    "import seaborn as sns"
   ]
  },
  {
   "cell_type": "code",
   "execution_count": 9,
   "metadata": {},
   "outputs": [],
   "source": [
    "Grid = namedtuple(\"Grid\", ['model', 'param_grid'])"
   ]
  },
  {
   "cell_type": "code",
   "execution_count": 10,
   "metadata": {},
   "outputs": [],
   "source": [
    "grids = [\n",
    "    Grid(LogisticRegression,\n",
    "         {'estimator__solver': ('liblinear',)}),\n",
    "    Grid(BaggingClassifier,\n",
    "        {'estimator__n_estimators': (10, 200, 400, 800),\n",
    "         'estimator__max_samples': (0.2, 0.4, 0.8, 1.0),\n",
    "         'estimator__max_features': (0.2, 0.4, 0.8, 1.0)}),\n",
    "    Grid(RandomForestClassifier,\n",
    "        {'estimator__max_depth': (75, 100, None),\n",
    "         'estimator__max_features': ('auto', 'log2', None),\n",
    "         'estimator__n_estimators': (10, 200, 400, 600, 800)}),\n",
    "    Grid(GradientBoostingClassifier,\n",
    "         {'estimator__max_depth': (3, 4, 5),\n",
    "          'estimator__max_features': ('auto', 'log2', None),\n",
    "          'estimator__n_estimators': (10, 100, 200, 400, 800)}),\n",
    "    Grid(SVC,\n",
    "    {\"estimator__C\": (4, 8, 12),\n",
    "     \"estimator__degree\": (3, 4, 5)})\n",
    "]"
   ]
  },
  {
   "cell_type": "markdown",
   "metadata": {},
   "source": [
    "# Notes\n",
    "- Once i recieve the data - offset the target column by 1 so one year predicts the next\n",
    "- Drop all polygon data & assume we have sufficient features to predict the next year\n",
    "- Each row represents the status of a given polygon & the incidents that year"
   ]
  },
  {
   "cell_type": "code",
   "execution_count": 11,
   "metadata": {},
   "outputs": [],
   "source": [
    "def get_next_year(year, region, df):\n",
    "    if year+1 not in set(df[YEAR_COL]):\n",
    "        return float('nan')\n",
    "    return df.loc[(df[YEAR_COL]==year+1) & (df[REGION_COL]==region), TARGET].values[0]"
   ]
  },
  {
   "cell_type": "code",
   "execution_count": 156,
   "metadata": {},
   "outputs": [],
   "source": [
    "df = pd.read_csv(r\"C:\\Users\\olive\\Documents\\GitHub\\MontrealFireSafetyProject\\data\\all_data_clean.csv\", index_col=0)\n",
    "\n",
    "TARGET = 'incident'\n",
    "YEAR_COL = 'Year'\n",
    "REGION_COL = 'Poly_Key'\n",
    "\n",
    "df[REGION_COL] = df[REGION_COL].astype('str')\n",
    "df['Next Year'] = df['Year'].apply(lambda x: int(x+1))\n",
    "\n",
    "left = df.copy()\n",
    "right = df.copy()\n",
    "\n",
    "left['idx'] = left.apply(lambda row: \"{}_{}\".format(row['Poly_Key'], row['Year']), axis=1)\n",
    "right['idx'] = right.apply(lambda row: \"{}_{}\".format(row['Poly_Key'], row['Next Year']), axis=1)\n",
    "\n",
    "left = left.set_index(['idx'], drop=True)\n",
    "right = right.set_index(['idx'], drop=True)\n",
    "\n",
    "tot = left.join(right, lsuffix='_x', rsuffix='_y', how='inner')\n",
    "tot = tot[['Poly_Key_x', 'Building_fire_x', 'incident_x', *[x for x in tot.columns if x[-2:]=='_y']]]\n",
    "tot = tot.drop(['Poly_Key_y', 'Building_fire_y', 'incident_y'], axis=1)\n",
    "\n",
    "tot.columns = tot.columns.str.replace('_x', '')\n",
    "tot.columns = tot.columns.str.replace('_y', '')\n",
    "tot = tot.drop(['Next Year'], axis=1)\n",
    "tot = tot.set_index(['Poly_Key', 'Year'], drop=True)\n",
    "\n",
    "df = tot.reset_index(drop=True).copy()\n",
    "X, y = df.drop([TARGET], axis=1), df[TARGET]\n",
    "y = y.apply(lambda x: 1 if x > 0 else 0)"
   ]
  },
  {
   "cell_type": "code",
   "execution_count": 189,
   "metadata": {},
   "outputs": [],
   "source": [
    "X_train, X_test, y_train, y_test = train_test_split(X, y, test_size=0.3)"
   ]
  },
  {
   "cell_type": "code",
   "execution_count": 190,
   "metadata": {},
   "outputs": [
    {
     "data": {
      "text/html": [
       "<div>\n",
       "<style scoped>\n",
       "    .dataframe tbody tr th:only-of-type {\n",
       "        vertical-align: middle;\n",
       "    }\n",
       "\n",
       "    .dataframe tbody tr th {\n",
       "        vertical-align: top;\n",
       "    }\n",
       "\n",
       "    .dataframe thead th {\n",
       "        text-align: right;\n",
       "    }\n",
       "</style>\n",
       "<table border=\"1\" class=\"dataframe\">\n",
       "  <thead>\n",
       "    <tr style=\"text-align: right;\">\n",
       "      <th></th>\n",
       "      <th>Building_fire</th>\n",
       "      <th>CFSAUID</th>\n",
       "      <th>Desc_gr_clean_Alarmes-incendies</th>\n",
       "      <th>Desc_gr_clean_Autres incendies</th>\n",
       "      <th>Desc_gr_clean_Fausses alertes/annulations</th>\n",
       "      <th>Desc_gr_clean_Nouveau</th>\n",
       "      <th>Desc_gr_clean_Premier répondant</th>\n",
       "      <th>Desc_gr_clean_Sans incendie</th>\n",
       "      <th>Num_units_total</th>\n",
       "      <th>Num_units_mean</th>\n",
       "      <th>...</th>\n",
       "      <th>gr_0_to_14ears</th>\n",
       "      <th>gr_15_to_29_ years</th>\n",
       "      <th>gr_30_to_64ears</th>\n",
       "      <th>gr_65ears_+</th>\n",
       "      <th>gr_married_commomlawpartner</th>\n",
       "      <th>income_per_capita</th>\n",
       "      <th>Income_0_to_35K</th>\n",
       "      <th>Income_35K_to_70K</th>\n",
       "      <th>Income_70K+</th>\n",
       "      <th>population tax payers</th>\n",
       "    </tr>\n",
       "  </thead>\n",
       "  <tbody>\n",
       "    <tr>\n",
       "      <th>310975</th>\n",
       "      <td>0.0</td>\n",
       "      <td>H4R</td>\n",
       "      <td>2</td>\n",
       "      <td>0</td>\n",
       "      <td>0</td>\n",
       "      <td>0</td>\n",
       "      <td>4.0</td>\n",
       "      <td>0</td>\n",
       "      <td>13.0</td>\n",
       "      <td>2.166667</td>\n",
       "      <td>...</td>\n",
       "      <td>0.20</td>\n",
       "      <td>0.16</td>\n",
       "      <td>0.49</td>\n",
       "      <td>0.15</td>\n",
       "      <td>0.48</td>\n",
       "      <td>58188.244683</td>\n",
       "      <td>0.51</td>\n",
       "      <td>0.24</td>\n",
       "      <td>0.25</td>\n",
       "      <td>20925</td>\n",
       "    </tr>\n",
       "    <tr>\n",
       "      <th>65266</th>\n",
       "      <td>0.0</td>\n",
       "      <td>H8Z</td>\n",
       "      <td>0</td>\n",
       "      <td>0</td>\n",
       "      <td>0</td>\n",
       "      <td>0</td>\n",
       "      <td>0.0</td>\n",
       "      <td>0</td>\n",
       "      <td>0.0</td>\n",
       "      <td>0.000000</td>\n",
       "      <td>...</td>\n",
       "      <td>0.17</td>\n",
       "      <td>0.20</td>\n",
       "      <td>0.48</td>\n",
       "      <td>0.15</td>\n",
       "      <td>0.48</td>\n",
       "      <td>39166.499287</td>\n",
       "      <td>0.56</td>\n",
       "      <td>0.29</td>\n",
       "      <td>0.15</td>\n",
       "      <td>11925</td>\n",
       "    </tr>\n",
       "    <tr>\n",
       "      <th>310292</th>\n",
       "      <td>0.0</td>\n",
       "      <td>H4R</td>\n",
       "      <td>0</td>\n",
       "      <td>2</td>\n",
       "      <td>0</td>\n",
       "      <td>0</td>\n",
       "      <td>3.0</td>\n",
       "      <td>1</td>\n",
       "      <td>24.0</td>\n",
       "      <td>3.428571</td>\n",
       "      <td>...</td>\n",
       "      <td>0.20</td>\n",
       "      <td>0.16</td>\n",
       "      <td>0.49</td>\n",
       "      <td>0.15</td>\n",
       "      <td>0.48</td>\n",
       "      <td>58188.244683</td>\n",
       "      <td>0.51</td>\n",
       "      <td>0.24</td>\n",
       "      <td>0.25</td>\n",
       "      <td>20925</td>\n",
       "    </tr>\n",
       "    <tr>\n",
       "      <th>159357</th>\n",
       "      <td>1.0</td>\n",
       "      <td>H2X</td>\n",
       "      <td>0</td>\n",
       "      <td>0</td>\n",
       "      <td>0</td>\n",
       "      <td>0</td>\n",
       "      <td>4.0</td>\n",
       "      <td>0</td>\n",
       "      <td>5.0</td>\n",
       "      <td>1.250000</td>\n",
       "      <td>...</td>\n",
       "      <td>0.05</td>\n",
       "      <td>0.39</td>\n",
       "      <td>0.40</td>\n",
       "      <td>0.16</td>\n",
       "      <td>0.29</td>\n",
       "      <td>35957.843018</td>\n",
       "      <td>0.68</td>\n",
       "      <td>0.19</td>\n",
       "      <td>0.14</td>\n",
       "      <td>15110</td>\n",
       "    </tr>\n",
       "    <tr>\n",
       "      <th>29078</th>\n",
       "      <td>0.0</td>\n",
       "      <td>H1H</td>\n",
       "      <td>0</td>\n",
       "      <td>0</td>\n",
       "      <td>0</td>\n",
       "      <td>0</td>\n",
       "      <td>3.0</td>\n",
       "      <td>0</td>\n",
       "      <td>4.0</td>\n",
       "      <td>1.333333</td>\n",
       "      <td>...</td>\n",
       "      <td>0.17</td>\n",
       "      <td>0.17</td>\n",
       "      <td>0.46</td>\n",
       "      <td>0.20</td>\n",
       "      <td>0.38</td>\n",
       "      <td>26794.224829</td>\n",
       "      <td>0.73</td>\n",
       "      <td>0.22</td>\n",
       "      <td>0.05</td>\n",
       "      <td>27790</td>\n",
       "    </tr>\n",
       "  </tbody>\n",
       "</table>\n",
       "<p>5 rows × 23 columns</p>\n",
       "</div>"
      ],
      "text/plain": [
       "        Building_fire CFSAUID  Desc_gr_clean_Alarmes-incendies  \\\n",
       "310975            0.0     H4R                                2   \n",
       "65266             0.0     H8Z                                0   \n",
       "310292            0.0     H4R                                0   \n",
       "159357            1.0     H2X                                0   \n",
       "29078             0.0     H1H                                0   \n",
       "\n",
       "        Desc_gr_clean_Autres incendies  \\\n",
       "310975                               0   \n",
       "65266                                0   \n",
       "310292                               2   \n",
       "159357                               0   \n",
       "29078                                0   \n",
       "\n",
       "        Desc_gr_clean_Fausses alertes/annulations  Desc_gr_clean_Nouveau  \\\n",
       "310975                                          0                      0   \n",
       "65266                                           0                      0   \n",
       "310292                                          0                      0   \n",
       "159357                                          0                      0   \n",
       "29078                                           0                      0   \n",
       "\n",
       "        Desc_gr_clean_Premier répondant  Desc_gr_clean_Sans incendie  \\\n",
       "310975                              4.0                            0   \n",
       "65266                               0.0                            0   \n",
       "310292                              3.0                            1   \n",
       "159357                              4.0                            0   \n",
       "29078                               3.0                            0   \n",
       "\n",
       "        Num_units_total  Num_units_mean  ...  gr_0_to_14ears  \\\n",
       "310975             13.0        2.166667  ...            0.20   \n",
       "65266               0.0        0.000000  ...            0.17   \n",
       "310292             24.0        3.428571  ...            0.20   \n",
       "159357              5.0        1.250000  ...            0.05   \n",
       "29078               4.0        1.333333  ...            0.17   \n",
       "\n",
       "        gr_15_to_29_ years  gr_30_to_64ears  gr_65ears_+  \\\n",
       "310975                0.16             0.49         0.15   \n",
       "65266                 0.20             0.48         0.15   \n",
       "310292                0.16             0.49         0.15   \n",
       "159357                0.39             0.40         0.16   \n",
       "29078                 0.17             0.46         0.20   \n",
       "\n",
       "        gr_married_commomlawpartner  income_per_capita  Income_0_to_35K  \\\n",
       "310975                         0.48       58188.244683             0.51   \n",
       "65266                          0.48       39166.499287             0.56   \n",
       "310292                         0.48       58188.244683             0.51   \n",
       "159357                         0.29       35957.843018             0.68   \n",
       "29078                          0.38       26794.224829             0.73   \n",
       "\n",
       "        Income_35K_to_70K  Income_70K+  population tax payers  \n",
       "310975               0.24         0.25                  20925  \n",
       "65266                0.29         0.15                  11925  \n",
       "310292               0.24         0.25                  20925  \n",
       "159357               0.19         0.14                  15110  \n",
       "29078                0.22         0.05                  27790  \n",
       "\n",
       "[5 rows x 23 columns]"
      ]
     },
     "execution_count": 190,
     "metadata": {},
     "output_type": "execute_result"
    }
   ],
   "source": [
    "X_train.head()"
   ]
  },
  {
   "cell_type": "code",
   "execution_count": 191,
   "metadata": {},
   "outputs": [],
   "source": [
    "numerical_features = ['Desc_gr_clean_Alarmes-incendies',\n",
    "       'Desc_gr_clean_Autres incendies',\n",
    "       'Desc_gr_clean_Fausses alertes/annulations', 'Desc_gr_clean_Nouveau',\n",
    "       'Desc_gr_clean_Premier répondant', 'Desc_gr_clean_Sans incendie',\n",
    "       'Num_units_total', 'Num_units_mean', 'Num_units_median', 'population',\n",
    "       'total_dwellings', 'gr_0_to_14ears', 'gr_15_to_29_ years',\n",
    "       'gr_30_to_64ears', 'gr_65ears_+', 'gr_married_commomlawpartner',\n",
    "       'income_per_capita', 'Income_0_to_35K', 'Income_35K_to_70K',\n",
    "       'Income_70K+', 'population tax payers']\n",
    "\n",
    "categorical_features = []"
   ]
  },
  {
   "cell_type": "code",
   "execution_count": 192,
   "metadata": {},
   "outputs": [],
   "source": [
    "categorical_pipeline = Pipeline(steps=[('one_hot_encoder', OneHotEncoder(sparse=False, \n",
    "                                                                         drop='first',\n",
    "                                                                         handle_unknown='error'))])"
   ]
  },
  {
   "cell_type": "code",
   "execution_count": 193,
   "metadata": {},
   "outputs": [],
   "source": [
    "numerical_pipeline = Pipeline(steps=[('min_max_scalar', MinMaxScaler())])"
   ]
  },
  {
   "cell_type": "code",
   "execution_count": 194,
   "metadata": {},
   "outputs": [],
   "source": [
    "prep_pipeline = ColumnTransformer([\n",
    "    (\"cat\", categorical_pipeline, categorical_features),\n",
    "    (\"num\", numerical_pipeline, numerical_features)\n",
    "])"
   ]
  },
  {
   "cell_type": "code",
   "execution_count": 195,
   "metadata": {},
   "outputs": [],
   "source": [
    "full_pipeline = Pipeline(steps=[('prep', prep_pipeline),\n",
    "                                ('feature_engineering', SelectFromModel(estimator=DecisionTreeClassifier(), threshold='0.5*mean')),\n",
    "                                ('estimator', LogisticRegression())])"
   ]
  },
  {
   "cell_type": "code",
   "execution_count": 196,
   "metadata": {},
   "outputs": [
    {
     "name": "stderr",
     "output_type": "stream",
     "text": [
      "C:\\Users\\olive\\AppData\\Local\\Continuum\\anaconda3\\envs\\deeplearning\\lib\\site-packages\\sklearn\\linear_model\\logistic.py:432: FutureWarning: Default solver will be changed to 'lbfgs' in 0.22. Specify a solver to silence this warning.\n",
      "  FutureWarning)\n"
     ]
    },
    {
     "data": {
      "text/plain": [
       "Pipeline(memory=None,\n",
       "         steps=[('prep',\n",
       "                 ColumnTransformer(n_jobs=None, remainder='drop',\n",
       "                                   sparse_threshold=0.3,\n",
       "                                   transformer_weights=None,\n",
       "                                   transformers=[('cat',\n",
       "                                                  Pipeline(memory=None,\n",
       "                                                           steps=[('one_hot_encoder',\n",
       "                                                                   OneHotEncoder(categorical_features=None,\n",
       "                                                                                 categories=None,\n",
       "                                                                                 drop='first',\n",
       "                                                                                 dtype=<class 'numpy.float64'>,\n",
       "                                                                                 handle_unknown='error',\n",
       "                                                                                 n_values=None,\n",
       "                                                                                 sparse=False))],\n",
       "                                                           ve...\n",
       "                                                                  random_state=None,\n",
       "                                                                  splitter='best'),\n",
       "                                 max_features=None, norm_order=1, prefit=False,\n",
       "                                 threshold='0.5*mean')),\n",
       "                ('estimator',\n",
       "                 LogisticRegression(C=1.0, class_weight=None, dual=False,\n",
       "                                    fit_intercept=True, intercept_scaling=1,\n",
       "                                    l1_ratio=None, max_iter=100,\n",
       "                                    multi_class='warn', n_jobs=None,\n",
       "                                    penalty='l2', random_state=None,\n",
       "                                    solver='warn', tol=0.0001, verbose=0,\n",
       "                                    warm_start=False))],\n",
       "         verbose=False)"
      ]
     },
     "execution_count": 196,
     "metadata": {},
     "output_type": "execute_result"
    }
   ],
   "source": [
    "full_pipeline.fit(X_train, y_train)"
   ]
  },
  {
   "cell_type": "code",
   "execution_count": 197,
   "metadata": {},
   "outputs": [],
   "source": [
    "y_pred = full_pipeline.predict(X_test)"
   ]
  },
  {
   "cell_type": "code",
   "execution_count": 198,
   "metadata": {},
   "outputs": [
    {
     "data": {
      "text/plain": [
       "0.8338442673206622"
      ]
     },
     "execution_count": 198,
     "metadata": {},
     "output_type": "execute_result"
    }
   ],
   "source": [
    "f1_score(y_test, y_pred)"
   ]
  },
  {
   "cell_type": "code",
   "execution_count": 202,
   "metadata": {},
   "outputs": [],
   "source": [
    "from sklearn.metrics import accuracy_score"
   ]
  },
  {
   "cell_type": "code",
   "execution_count": 201,
   "metadata": {},
   "outputs": [
    {
     "data": {
      "text/plain": [
       "0.6570254195552525"
      ]
     },
     "execution_count": 201,
     "metadata": {},
     "output_type": "execute_result"
    }
   ],
   "source": [
    "len(y_test[y_test==1])/len(y_test)"
   ]
  },
  {
   "cell_type": "code",
   "execution_count": 203,
   "metadata": {},
   "outputs": [
    {
     "data": {
      "text/plain": [
       "0.781840739477971"
      ]
     },
     "execution_count": 203,
     "metadata": {},
     "output_type": "execute_result"
    }
   ],
   "source": [
    "accuracy_score(y_test, y_pred)"
   ]
  },
  {
   "cell_type": "code",
   "execution_count": null,
   "metadata": {},
   "outputs": [],
   "source": []
  }
 ],
 "metadata": {
  "kernelspec": {
   "display_name": "Python 3",
   "language": "python",
   "name": "python3"
  },
  "language_info": {
   "codemirror_mode": {
    "name": "ipython",
    "version": 3
   },
   "file_extension": ".py",
   "mimetype": "text/x-python",
   "name": "python",
   "nbconvert_exporter": "python",
   "pygments_lexer": "ipython3",
   "version": "3.7.2"
  }
 },
 "nbformat": 4,
 "nbformat_minor": 2
}
