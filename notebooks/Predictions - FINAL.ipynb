{
 "cells": [
  {
   "cell_type": "code",
   "execution_count": 1,
   "metadata": {},
   "outputs": [],
   "source": [
    "import numpy as np\n",
    "import pandas as pd\n",
    "from sklearn.base import BaseEstimator, TransformerMixin\n",
    "from sklearn.preprocessing import OneHotEncoder, StandardScaler\n",
    "from sklearn.impute import SimpleImputer\n",
    "from sklearn.pipeline import make_pipeline, FeatureUnion, Pipeline\n",
    "from sklearn.linear_model import LogisticRegression\n",
    "from sklearn.model_selection import train_test_split\n",
    "from sklearn.metrics import accuracy_score\n",
    "from sklearn.model_selection import GridSearchCV\n",
    "from sklearn.svm import SVC\n",
    "from sklearn.ensemble import GradientBoostingClassifier\n",
    "from sklearn.ensemble import RandomForestClassifier\n",
    "from sklearn.ensemble import BaggingClassifier\n",
    "from collections import namedtuple\n",
    "from sklearn.tree import DecisionTreeClassifier\n",
    "from sklearn.feature_selection import RFE, SelectFromModel\n",
    "from sklearn.metrics import fbeta_score\n",
    "from sklearn.metrics.scorer import make_scorer\n",
    "from sklearn.metrics import f1_score\n",
    "from sklearn.compose import ColumnTransformer\n",
    "from sklearn.preprocessing import MinMaxScaler\n",
    "from sklearn.discriminant_analysis import QuadraticDiscriminantAnalysis\n",
    "from sklearn.tree import DecisionTreeClassifier\n",
    "import matplotlib.pyplot as plt\n",
    "import seaborn as sns"
   ]
  },
  {
   "cell_type": "code",
   "execution_count": 2,
   "metadata": {},
   "outputs": [],
   "source": [
    "def get_next_year(year, region, df):\n",
    "    if year+1 not in set(df[YEAR_COL]):\n",
    "        return float('nan')\n",
    "    return df.loc[(df[YEAR_COL]==year+1) & (df[REGION_COL]==region), TARGET].values[0]"
   ]
  },
  {
   "cell_type": "code",
   "execution_count": 3,
   "metadata": {},
   "outputs": [],
   "source": [
    "df = pd.read_csv(r\"C:\\Users\\olive\\Documents\\GitHub\\MontrealFireSafetyProject\\data\\all_data_clean.csv\", index_col=0)\n",
    "\n",
    "TARGET = 'incident'\n",
    "YEAR_COL = 'Year'\n",
    "REGION_COL = 'Poly_Key'\n",
    "\n",
    "df[REGION_COL] = df[REGION_COL].astype('str')\n",
    "df['Next Year'] = df['Year'].apply(lambda x: int(x+1))\n",
    "\n",
    "left = df.copy()\n",
    "right = df.copy()\n",
    "\n",
    "left['idx'] = left.apply(lambda row: \"{}_{}\".format(row['Poly_Key'], row['Year']), axis=1)\n",
    "right['idx'] = right.apply(lambda row: \"{}_{}\".format(row['Poly_Key'], row['Next Year']), axis=1)\n",
    "\n",
    "left = left.set_index(['idx'], drop=True)\n",
    "right = right.set_index(['idx'], drop=True)\n",
    "\n",
    "tot = left.join(right, lsuffix='_nextyear', rsuffix='_thisyear', how='inner')\n",
    "tot = tot[['Poly_Key_nextyear', 'Building_fire_nextyear', 'incident_nextyear', \n",
    "           *[x for x in tot.columns if x[-9:]=='_thisyear']]]\n",
    "\n",
    "tot = tot.drop(['Next Year_thisyear'], axis=1)\n",
    "tot = tot.set_index(['Poly_Key_thisyear', 'Year_thisyear'], drop=True)\n",
    "\n",
    "df = tot.reset_index(drop=True).copy()\n",
    "X, y = df.drop([TARGET + '_nextyear'], axis=1), df[TARGET + '_nextyear']\n",
    "y = y.apply(lambda x: 1 if x > 0 else 0)"
   ]
  },
  {
   "cell_type": "code",
   "execution_count": 4,
   "metadata": {},
   "outputs": [],
   "source": [
    "X_train, X_test, y_train, y_test = train_test_split(X, y, test_size=0.3)"
   ]
  },
  {
   "cell_type": "code",
   "execution_count": 5,
   "metadata": {
    "scrolled": true
   },
   "outputs": [
    {
     "data": {
      "text/html": [
       "<div>\n",
       "<style scoped>\n",
       "    .dataframe tbody tr th:only-of-type {\n",
       "        vertical-align: middle;\n",
       "    }\n",
       "\n",
       "    .dataframe tbody tr th {\n",
       "        vertical-align: top;\n",
       "    }\n",
       "\n",
       "    .dataframe thead th {\n",
       "        text-align: right;\n",
       "    }\n",
       "</style>\n",
       "<table border=\"1\" class=\"dataframe\">\n",
       "  <thead>\n",
       "    <tr style=\"text-align: right;\">\n",
       "      <th></th>\n",
       "      <th>Poly_Key_nextyear</th>\n",
       "      <th>Building_fire_nextyear</th>\n",
       "      <th>CFSAUID_thisyear</th>\n",
       "      <th>Building_fire_thisyear</th>\n",
       "      <th>incident_thisyear</th>\n",
       "      <th>Desc_gr_clean_Alarmes-incendies_thisyear</th>\n",
       "      <th>Desc_gr_clean_Autres incendies_thisyear</th>\n",
       "      <th>Desc_gr_clean_Fausses alertes/annulations_thisyear</th>\n",
       "      <th>Desc_gr_clean_Nouveau_thisyear</th>\n",
       "      <th>Desc_gr_clean_Premier répondant_thisyear</th>\n",
       "      <th>...</th>\n",
       "      <th>Num_units_avg_thisyear</th>\n",
       "      <th>Num_units_median_thisyear</th>\n",
       "      <th>Num_units_max_thisyear</th>\n",
       "      <th>Construction_Year_min_thisyear</th>\n",
       "      <th>Construction_Year_max_thisyear</th>\n",
       "      <th>Construction_Year_avg_thisyear</th>\n",
       "      <th>Construction_Year_median_thisyear</th>\n",
       "      <th>Building_area_min_thisyear</th>\n",
       "      <th>Building_area_max_thisyear</th>\n",
       "      <th>Building_area_avg_thisyear</th>\n",
       "    </tr>\n",
       "  </thead>\n",
       "  <tbody>\n",
       "    <tr>\n",
       "      <th>244881</th>\n",
       "      <td>POLYGON ((-73.62656966437061 45.46629447100914...</td>\n",
       "      <td>0.0</td>\n",
       "      <td>H4B</td>\n",
       "      <td>0.0</td>\n",
       "      <td>23.0</td>\n",
       "      <td>3</td>\n",
       "      <td>0</td>\n",
       "      <td>0</td>\n",
       "      <td>0</td>\n",
       "      <td>11.0</td>\n",
       "      <td>...</td>\n",
       "      <td>9.416667</td>\n",
       "      <td>1.0</td>\n",
       "      <td>181.0</td>\n",
       "      <td>1910.0</td>\n",
       "      <td>1998.0</td>\n",
       "      <td>1940.541667</td>\n",
       "      <td>1927.5</td>\n",
       "      <td>198.0</td>\n",
       "      <td>2741.0</td>\n",
       "      <td>479.041667</td>\n",
       "    </tr>\n",
       "    <tr>\n",
       "      <th>183990</th>\n",
       "      <td>POLYGON ((-73.57983975333164 45.47149562109404...</td>\n",
       "      <td>0.0</td>\n",
       "      <td>H4E</td>\n",
       "      <td>0.0</td>\n",
       "      <td>10.0</td>\n",
       "      <td>1</td>\n",
       "      <td>1</td>\n",
       "      <td>0</td>\n",
       "      <td>0</td>\n",
       "      <td>4.0</td>\n",
       "      <td>...</td>\n",
       "      <td>0.000000</td>\n",
       "      <td>0.0</td>\n",
       "      <td>0.0</td>\n",
       "      <td>1908.0</td>\n",
       "      <td>2014.0</td>\n",
       "      <td>1960.222222</td>\n",
       "      <td>1959.0</td>\n",
       "      <td>2727.0</td>\n",
       "      <td>334978.0</td>\n",
       "      <td>43175.700000</td>\n",
       "    </tr>\n",
       "    <tr>\n",
       "      <th>65361</th>\n",
       "      <td>POLYGON ((-73.83743610069625 45.50627327727052...</td>\n",
       "      <td>0.0</td>\n",
       "      <td>H8Z</td>\n",
       "      <td>0.0</td>\n",
       "      <td>1.0</td>\n",
       "      <td>0</td>\n",
       "      <td>0</td>\n",
       "      <td>0</td>\n",
       "      <td>0</td>\n",
       "      <td>0.0</td>\n",
       "      <td>...</td>\n",
       "      <td>1.000000</td>\n",
       "      <td>1.0</td>\n",
       "      <td>1.0</td>\n",
       "      <td>1961.0</td>\n",
       "      <td>1968.0</td>\n",
       "      <td>1962.533333</td>\n",
       "      <td>1961.0</td>\n",
       "      <td>477.0</td>\n",
       "      <td>656.0</td>\n",
       "      <td>569.800000</td>\n",
       "    </tr>\n",
       "    <tr>\n",
       "      <th>91098</th>\n",
       "      <td>POLYGON ((-73.90670752577309 45.46087741240239...</td>\n",
       "      <td>0.0</td>\n",
       "      <td>H9K</td>\n",
       "      <td>0.0</td>\n",
       "      <td>2.0</td>\n",
       "      <td>0</td>\n",
       "      <td>0</td>\n",
       "      <td>0</td>\n",
       "      <td>0</td>\n",
       "      <td>2.0</td>\n",
       "      <td>...</td>\n",
       "      <td>0.947368</td>\n",
       "      <td>1.0</td>\n",
       "      <td>1.0</td>\n",
       "      <td>1956.0</td>\n",
       "      <td>2015.0</td>\n",
       "      <td>2001.111111</td>\n",
       "      <td>2003.0</td>\n",
       "      <td>316.0</td>\n",
       "      <td>1705.0</td>\n",
       "      <td>954.578947</td>\n",
       "    </tr>\n",
       "    <tr>\n",
       "      <th>198394</th>\n",
       "      <td>POLYGON ((-73.58290815319209 45.4827327256691,...</td>\n",
       "      <td>0.0</td>\n",
       "      <td>H4C</td>\n",
       "      <td>0.0</td>\n",
       "      <td>1.0</td>\n",
       "      <td>0</td>\n",
       "      <td>0</td>\n",
       "      <td>0</td>\n",
       "      <td>0</td>\n",
       "      <td>0.0</td>\n",
       "      <td>...</td>\n",
       "      <td>1.730769</td>\n",
       "      <td>1.0</td>\n",
       "      <td>3.0</td>\n",
       "      <td>1900.0</td>\n",
       "      <td>2008.0</td>\n",
       "      <td>1910.680000</td>\n",
       "      <td>1900.0</td>\n",
       "      <td>55.0</td>\n",
       "      <td>6253.0</td>\n",
       "      <td>594.115385</td>\n",
       "    </tr>\n",
       "  </tbody>\n",
       "</table>\n",
       "<p>5 rows × 48 columns</p>\n",
       "</div>"
      ],
      "text/plain": [
       "                                        Poly_Key_nextyear  \\\n",
       "244881  POLYGON ((-73.62656966437061 45.46629447100914...   \n",
       "183990  POLYGON ((-73.57983975333164 45.47149562109404...   \n",
       "65361   POLYGON ((-73.83743610069625 45.50627327727052...   \n",
       "91098   POLYGON ((-73.90670752577309 45.46087741240239...   \n",
       "198394  POLYGON ((-73.58290815319209 45.4827327256691,...   \n",
       "\n",
       "        Building_fire_nextyear CFSAUID_thisyear  Building_fire_thisyear  \\\n",
       "244881                     0.0              H4B                     0.0   \n",
       "183990                     0.0              H4E                     0.0   \n",
       "65361                      0.0              H8Z                     0.0   \n",
       "91098                      0.0              H9K                     0.0   \n",
       "198394                     0.0              H4C                     0.0   \n",
       "\n",
       "        incident_thisyear  Desc_gr_clean_Alarmes-incendies_thisyear  \\\n",
       "244881               23.0                                         3   \n",
       "183990               10.0                                         1   \n",
       "65361                 1.0                                         0   \n",
       "91098                 2.0                                         0   \n",
       "198394                1.0                                         0   \n",
       "\n",
       "        Desc_gr_clean_Autres incendies_thisyear  \\\n",
       "244881                                        0   \n",
       "183990                                        1   \n",
       "65361                                         0   \n",
       "91098                                         0   \n",
       "198394                                        0   \n",
       "\n",
       "        Desc_gr_clean_Fausses alertes/annulations_thisyear  \\\n",
       "244881                                                  0    \n",
       "183990                                                  0    \n",
       "65361                                                   0    \n",
       "91098                                                   0    \n",
       "198394                                                  0    \n",
       "\n",
       "        Desc_gr_clean_Nouveau_thisyear  \\\n",
       "244881                               0   \n",
       "183990                               0   \n",
       "65361                                0   \n",
       "91098                                0   \n",
       "198394                               0   \n",
       "\n",
       "        Desc_gr_clean_Premier répondant_thisyear  ...  Num_units_avg_thisyear  \\\n",
       "244881                                      11.0  ...                9.416667   \n",
       "183990                                       4.0  ...                0.000000   \n",
       "65361                                        0.0  ...                1.000000   \n",
       "91098                                        2.0  ...                0.947368   \n",
       "198394                                       0.0  ...                1.730769   \n",
       "\n",
       "        Num_units_median_thisyear  Num_units_max_thisyear  \\\n",
       "244881                        1.0                   181.0   \n",
       "183990                        0.0                     0.0   \n",
       "65361                         1.0                     1.0   \n",
       "91098                         1.0                     1.0   \n",
       "198394                        1.0                     3.0   \n",
       "\n",
       "        Construction_Year_min_thisyear  Construction_Year_max_thisyear  \\\n",
       "244881                          1910.0                          1998.0   \n",
       "183990                          1908.0                          2014.0   \n",
       "65361                           1961.0                          1968.0   \n",
       "91098                           1956.0                          2015.0   \n",
       "198394                          1900.0                          2008.0   \n",
       "\n",
       "        Construction_Year_avg_thisyear  Construction_Year_median_thisyear  \\\n",
       "244881                     1940.541667                             1927.5   \n",
       "183990                     1960.222222                             1959.0   \n",
       "65361                      1962.533333                             1961.0   \n",
       "91098                      2001.111111                             2003.0   \n",
       "198394                     1910.680000                             1900.0   \n",
       "\n",
       "        Building_area_min_thisyear  Building_area_max_thisyear  \\\n",
       "244881                       198.0                      2741.0   \n",
       "183990                      2727.0                    334978.0   \n",
       "65361                        477.0                       656.0   \n",
       "91098                        316.0                      1705.0   \n",
       "198394                        55.0                      6253.0   \n",
       "\n",
       "        Building_area_avg_thisyear  \n",
       "244881                  479.041667  \n",
       "183990                43175.700000  \n",
       "65361                   569.800000  \n",
       "91098                   954.578947  \n",
       "198394                  594.115385  \n",
       "\n",
       "[5 rows x 48 columns]"
      ]
     },
     "execution_count": 5,
     "metadata": {},
     "output_type": "execute_result"
    }
   ],
   "source": [
    "X_train.head()"
   ]
  },
  {
   "cell_type": "code",
   "execution_count": 6,
   "metadata": {},
   "outputs": [
    {
     "data": {
      "text/plain": [
       "<matplotlib.axes._subplots.AxesSubplot at 0x1935cb4b0b8>"
      ]
     },
     "execution_count": 6,
     "metadata": {},
     "output_type": "execute_result"
    },
    {
     "data": {
      "image/png": "[encoded data removed]",
      "text/plain": [
       "<Figure size 432x288 with 2 Axes>"
      ]
     },
     "metadata": {
      "needs_background": "light"
     },
     "output_type": "display_data"
    }
   ],
   "source": [
    "sns.heatmap(X_train.isna())"
   ]
  },
  {
   "cell_type": "code",
   "execution_count": 7,
   "metadata": {},
   "outputs": [],
   "source": [
    "numerical_features = ['Building_fire_thisyear', 'incident_thisyear',\n",
    "                      'Desc_gr_clean_Alarmes-incendies_thisyear',\n",
    "                      'Desc_gr_clean_Autres incendies_thisyear',\n",
    "                      'Desc_gr_clean_Fausses alertes/annulations_thisyear',\n",
    "                      'Desc_gr_clean_Nouveau_thisyear',\n",
    "                      'Desc_gr_clean_Premier répondant_thisyear',\n",
    "                      'Desc_gr_clean_Sans incendie_thisyear', 'Num_trucks_total_thisyear',\n",
    "                      'Num_trucks_mean_thisyear', 'Num_trucks_median_thisyear',\n",
    "                      'population_thisyear', 'total_dwellings_thisyear',\n",
    "                      'gr_0_to_14_years_thisyear', 'gr_15_19_years_thisyear',\n",
    "                      'gr_20_24_years_thisyear', 'gr_25_34_years_thisyear',\n",
    "                      'gr_35_44_years_thisyear', 'gr_45_54_years_thisyear',\n",
    "                      'gr_55_64_years_thisyear', 'gr_65plus_years_thisyear',\n",
    "                      'gr_married_commomlawpartner_thisyear',\n",
    "                      'gr_Couples_with_children_thisyear',\n",
    "                      'gr_Couples_without_children_thisyear', 'income_per_capita_thisyear',\n",
    "                      'Income_0_to_35K_thisyear', 'Income_35K_to_70K_thisyear',\n",
    "                      'Income_70K+_thisyear', 'population tax payers_thisyear',\n",
    "                      'Num_buildings_thisyear', 'Num_Regular_thisyear',\n",
    "                      'Num_Condo_thisyear', 'Num_logement_thisyear', 'Num_units_sum_thisyear',\n",
    "                      'Num_units_avg_thisyear', 'Num_units_median_thisyear',\n",
    "                      'Num_units_max_thisyear', 'Construction_Year_min_thisyear',\n",
    "                      'Construction_Year_max_thisyear', 'Construction_Year_avg_thisyear',\n",
    "                      'Construction_Year_median_thisyear', 'Building_area_min_thisyear',\n",
    "                      'Building_area_max_thisyear', 'Building_area_avg_thisyear']\n",
    "\n",
    "categorical_features = ['Borough_thisyear']"
   ]
  },
  {
   "cell_type": "code",
   "execution_count": 8,
   "metadata": {},
   "outputs": [],
   "source": [
    "categorical_pipeline = Pipeline(steps=[('one_hot_encoder', OneHotEncoder(sparse=False, \n",
    "                                                                         drop='first',\n",
    "                                                                         handle_unknown='error'))])"
   ]
  },
  {
   "cell_type": "code",
   "execution_count": 9,
   "metadata": {},
   "outputs": [],
   "source": [
    "numerical_pipeline = Pipeline(steps=[('imputer', SimpleImputer(strategy='median')),\n",
    "                                     ('min_max_scalar', MinMaxScaler())])"
   ]
  },
  {
   "cell_type": "code",
   "execution_count": 10,
   "metadata": {},
   "outputs": [],
   "source": [
    "prep_pipeline = ColumnTransformer([\n",
    "    (\"cat\", categorical_pipeline, categorical_features),\n",
    "    (\"num\", numerical_pipeline, numerical_features)\n",
    "])"
   ]
  },
  {
   "cell_type": "code",
   "execution_count": 11,
   "metadata": {},
   "outputs": [],
   "source": [
    "full_pipeline = Pipeline(steps=[('prep', prep_pipeline),\n",
    "                                #('feature_engineering', SelectFromModel(estimator=DecisionTreeClassifier(), threshold='0.5*mean')),\n",
    "                                ('estimator', LogisticRegression())])"
   ]
  },
  {
   "cell_type": "code",
   "execution_count": 12,
   "metadata": {},
   "outputs": [
    {
     "name": "stderr",
     "output_type": "stream",
     "text": [
      "C:\\Users\\olive\\AppData\\Local\\Continuum\\anaconda3\\envs\\deeplearning\\lib\\site-packages\\sklearn\\linear_model\\logistic.py:432: FutureWarning: Default solver will be changed to 'lbfgs' in 0.22. Specify a solver to silence this warning.\n",
      "  FutureWarning)\n"
     ]
    },
    {
     "data": {
      "text/plain": [
       "Pipeline(memory=None,\n",
       "         steps=[('prep',\n",
       "                 ColumnTransformer(n_jobs=None, remainder='drop',\n",
       "                                   sparse_threshold=0.3,\n",
       "                                   transformer_weights=None,\n",
       "                                   transformers=[('cat',\n",
       "                                                  Pipeline(memory=None,\n",
       "                                                           steps=[('one_hot_encoder',\n",
       "                                                                   OneHotEncoder(categorical_features=None,\n",
       "                                                                                 categories=None,\n",
       "                                                                                 drop='first',\n",
       "                                                                                 dtype=<class 'numpy.float64'>,\n",
       "                                                                                 handle_unknown='error',\n",
       "                                                                                 n_values=None,\n",
       "                                                                                 sparse=False))],\n",
       "                                                           ve...\n",
       "                                                   'Income_70K+_thisyear',\n",
       "                                                   'population tax '\n",
       "                                                   'payers_thisyear',\n",
       "                                                   'Num_buildings_thisyear', ...])],\n",
       "                                   verbose=False)),\n",
       "                ('estimator',\n",
       "                 LogisticRegression(C=1.0, class_weight=None, dual=False,\n",
       "                                    fit_intercept=True, intercept_scaling=1,\n",
       "                                    l1_ratio=None, max_iter=100,\n",
       "                                    multi_class='warn', n_jobs=None,\n",
       "                                    penalty='l2', random_state=None,\n",
       "                                    solver='warn', tol=0.0001, verbose=0,\n",
       "                                    warm_start=False))],\n",
       "         verbose=False)"
      ]
     },
     "execution_count": 12,
     "metadata": {},
     "output_type": "execute_result"
    }
   ],
   "source": [
    "full_pipeline.fit(X_train, y_train)"
   ]
  },
  {
   "cell_type": "code",
   "execution_count": 13,
   "metadata": {},
   "outputs": [],
   "source": [
    "y_pred = full_pipeline.predict(X_test)"
   ]
  },
  {
   "cell_type": "code",
   "execution_count": 14,
   "metadata": {},
   "outputs": [
    {
     "data": {
      "text/plain": [
       "0.8400975983430979"
      ]
     },
     "execution_count": 14,
     "metadata": {},
     "output_type": "execute_result"
    }
   ],
   "source": [
    "f1_score(y_test, y_pred)"
   ]
  },
  {
   "cell_type": "code",
   "execution_count": 15,
   "metadata": {},
   "outputs": [],
   "source": [
    "from sklearn.metrics import accuracy_score"
   ]
  },
  {
   "cell_type": "code",
   "execution_count": 16,
   "metadata": {},
   "outputs": [
    {
     "data": {
      "text/plain": [
       "0.658613047431429"
      ]
     },
     "execution_count": 16,
     "metadata": {},
     "output_type": "execute_result"
    }
   ],
   "source": [
    "len(y_test[y_test==1])/len(y_test)"
   ]
  },
  {
   "cell_type": "code",
   "execution_count": 17,
   "metadata": {},
   "outputs": [
    {
     "data": {
      "text/plain": [
       "0.7864828004243067"
      ]
     },
     "execution_count": 17,
     "metadata": {},
     "output_type": "execute_result"
    }
   ],
   "source": [
    "accuracy_score(y_test, y_pred)"
   ]
  },
  {
   "cell_type": "markdown",
   "metadata": {},
   "source": [
    "### Baseline: Predict next year there will be an incident if there was this year"
   ]
  },
  {
   "cell_type": "code",
   "execution_count": 18,
   "metadata": {},
   "outputs": [],
   "source": [
    "y_b1 = X_test[TARGET + '_thisyear']\n",
    "y_b1 = y_b1.apply(lambda x: 1 if x>0 else 0)"
   ]
  },
  {
   "cell_type": "code",
   "execution_count": 19,
   "metadata": {},
   "outputs": [
    {
     "data": {
      "text/plain": [
       "0.8358873210944218"
      ]
     },
     "execution_count": 19,
     "metadata": {},
     "output_type": "execute_result"
    }
   ],
   "source": [
    "f1_score(y_test, y_b1)"
   ]
  },
  {
   "cell_type": "code",
   "execution_count": 20,
   "metadata": {},
   "outputs": [
    {
     "data": {
      "text/plain": [
       "0.7848632368540688"
      ]
     },
     "execution_count": 20,
     "metadata": {},
     "output_type": "execute_result"
    }
   ],
   "source": [
    "accuracy_score(y_test, y_b1)"
   ]
  },
  {
   "cell_type": "code",
   "execution_count": 21,
   "metadata": {},
   "outputs": [],
   "source": [
    "feature_importances = dict(zip(numerical_features, full_pipeline.steps[-1][1].coef_[0, :]))"
   ]
  },
  {
   "cell_type": "code",
   "execution_count": 22,
   "metadata": {},
   "outputs": [],
   "source": [
    "from operator import itemgetter\n",
    "from collections import OrderedDict\n",
    "\n",
    "N = 10\n",
    "pos_top = dict(sorted(feature_importances.items(), key = itemgetter(1), reverse = True)[:N])\n",
    "neg_top = dict(sorted(feature_importances.items(), key = itemgetter(1), reverse = True)[-5:])\n",
    "top_abs = {**pos_top, **neg_top}\n",
    "top_abs = OrderedDict(sorted(top_abs.items(), key=lambda t: abs(t[1])))"
   ]
  },
  {
   "cell_type": "code",
   "execution_count": 23,
   "metadata": {},
   "outputs": [],
   "source": [
    "top_n = dict()\n",
    "for key, val in top_abs.items():\n",
    "    old_key = key\n",
    "    new_key = key.replace('_thisyear', '')\n",
    "    top_n[new_key] = top_abs[old_key]"
   ]
  },
  {
   "cell_type": "code",
   "execution_count": 24,
   "metadata": {},
   "outputs": [
    {
     "data": {
      "image/png": "[encoded data removed]",
      "text/plain": [
       "<Figure size 432x288 with 1 Axes>"
      ]
     },
     "metadata": {
      "needs_background": "light"
     },
     "output_type": "display_data"
    }
   ],
   "source": [
    "plt.barh(range(len(top_n)), list(top_n.values()), align='center')\n",
    "plt.yticks(range(len(top_n)), list(top_n.keys()), rotation='horizontal')\n",
    "plt.title(\"Best Predictors for Next Year Incidents\");\n",
    "plt.xlabel(\"Feature Importance Score\");"
   ]
  },
  {
   "cell_type": "code",
   "execution_count": 25,
   "metadata": {},
   "outputs": [
    {
     "data": {
      "text/plain": [
       "(246362, 76)"
      ]
     },
     "execution_count": 25,
     "metadata": {},
     "output_type": "execute_result"
    }
   ],
   "source": [
    "Pipeline(full_pipeline.steps[:-1]).transform(X_train).shape"
   ]
  },
  {
   "cell_type": "code",
   "execution_count": 32,
   "metadata": {},
   "outputs": [],
   "source": [
    "thisyear = pd.read_csv(r\"C:\\Users\\olive\\Documents\\GitHub\\MontrealFireSafetyProject\\data\\all_data_clean.csv\", index_col=0)"
   ]
  },
  {
   "cell_type": "code",
   "execution_count": 35,
   "metadata": {},
   "outputs": [],
   "source": [
    "thisyear = thisyear.loc[thisyear['Year']==2019]"
   ]
  },
  {
   "cell_type": "code",
   "execution_count": 38,
   "metadata": {},
   "outputs": [],
   "source": [
    "thisyear = thisyear.set_index(['Poly_Key'], drop=True)"
   ]
  },
  {
   "cell_type": "code",
   "execution_count": 40,
   "metadata": {},
   "outputs": [],
   "source": [
    "thisyear.columns = [x + '_thisyear' for x in thisyear.columns]"
   ]
  },
  {
   "cell_type": "code",
   "execution_count": 53,
   "metadata": {},
   "outputs": [],
   "source": [
    "forecast_inp = thisyear[[*numerical_features, *categorical_features]].copy()\n",
    "forecast_inp['Building_fire_nextyear'] = float('nan')\n",
    "forecast_inp['CFSAUID_thisyear'] = float('nan')\n",
    "forecast_inp['Poly_Key_nextyear'] = float('nan')"
   ]
  },
  {
   "cell_type": "code",
   "execution_count": 58,
   "metadata": {},
   "outputs": [],
   "source": [
    "forecast_inp['2020_incidents_forecast'] = full_pipeline.predict_proba(forecast_inp[X_train.columns])[:, 1]"
   ]
  },
  {
   "cell_type": "code",
   "execution_count": 61,
   "metadata": {},
   "outputs": [],
   "source": [
    "forecast_inp.to_csv('../data/2020_forecast.csv')"
   ]
  },
  {
   "cell_type": "code",
   "execution_count": null,
   "metadata": {},
   "outputs": [],
   "source": []
  }
 ],
 "metadata": {
  "kernelspec": {
   "display_name": "Python 3",
   "language": "python",
   "name": "python3"
  },
  "language_info": {
   "codemirror_mode": {
    "name": "ipython",
    "version": 3
   },
   "file_extension": ".py",
   "mimetype": "text/x-python",
   "name": "python",
   "nbconvert_exporter": "python",
   "pygments_lexer": "ipython3",
   "version": "3.7.2"
  }
 },
 "nbformat": 4,
 "nbformat_minor": 2
}
