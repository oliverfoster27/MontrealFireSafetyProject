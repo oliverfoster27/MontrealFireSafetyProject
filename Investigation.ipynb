{
 "cells": [
  {
   "cell_type": "markdown",
   "metadata": {},
   "source": [
    "# GCP Demos"
   ]
  },
  {
   "cell_type": "markdown",
   "metadata": {},
   "source": [
    "### Capstone Project GCP Location: https://console.cloud.google.com/home/dashboard?project=project2-2019-259821"
   ]
  },
  {
   "cell_type": "markdown",
   "metadata": {},
   "source": [
    "### Geo info: http://donnees.ville.montreal.qc.ca/dataset/geobase\n",
    "https://robertorocha.info/how-i-made-the-montreal-street-history-map/"
   ]
  },
  {
   "cell_type": "code",
   "execution_count": 1,
   "metadata": {},
   "outputs": [],
   "source": [
    "import networkx as nx\n",
    "import pandas as pd\n",
    "import requests\n",
    "import json\n",
    "from math import sin, cos, sqrt, atan2, radians\n",
    "import matplotlib.pyplot as plt\n",
    "%matplotlib inline"
   ]
  },
  {
   "cell_type": "code",
   "execution_count": 2,
   "metadata": {},
   "outputs": [],
   "source": [
    "with open(r\"./geojson_dump.json\", 'r') as f:    \n",
    "    data = f.read()"
   ]
  },
  {
   "cell_type": "code",
   "execution_count": 3,
   "metadata": {},
   "outputs": [],
   "source": [
    "data_json = json.loads(data)"
   ]
  },
  {
   "cell_type": "code",
   "execution_count": 4,
   "metadata": {},
   "outputs": [],
   "source": [
    "def distance_in_km(e1, e2):\n",
    "\n",
    "    # approximate radius of earth in km\n",
    "    R = 6373.0\n",
    "    lat1 = radians(e1[1])\n",
    "    lon1 = radians(e1[0])\n",
    "    lat2 = radians(e2[1])\n",
    "    lon2 = radians(e2[0])\n",
    "    dlon = lon2 - lon1\n",
    "    dlat = lat2 - lat1\n",
    "\n",
    "    a = sin(dlat / 2)**2 + cos(lat1) * cos(lat2) * sin(dlon / 2)**2\n",
    "    c = 2 * atan2(sqrt(a), sqrt(1 - a))\n",
    "\n",
    "    distance = R * c\n",
    "    \n",
    "    return distance"
   ]
  },
  {
   "cell_type": "code",
   "execution_count": 5,
   "metadata": {},
   "outputs": [
    {
     "name": "stdout",
     "output_type": "stream",
     "text": [
      "{'Lachine', 'Outremont', 'Ville-Marie', 'Saint-Léonard', 'Anjou', 'Le Sud-Ouest', 'Rosemont-La Petite-Patrie', 'Verdun', 'Pierrefonds-Roxboro', 'Côte-des-Neiges-Notre-Dame-de-Grâce', 'N/A', 'Villeray-Saint-Michel-Parc-Extension', 'LaSalle', 'Le Plateau-Mont-Royal', 'Ahuntsic-Cartierville', 'Mercier-Hochelaga-Maisonneuve', 'Saint-Laurent', 'Rivière-des-Prairies-Pointe-aux-Trembles', 'Montréal-Nord', \"L'Île-Bizard-Sainte-Geneviève\"}\n"
     ]
    }
   ],
   "source": [
    "d = []\n",
    "for features in data_json['features']:\n",
    "    d.append(features['properties']['ARR_DRT'])\n",
    "print(set(d))"
   ]
  },
  {
   "cell_type": "code",
   "execution_count": 6,
   "metadata": {},
   "outputs": [],
   "source": [
    "G = nx.Graph()\n",
    "for feature in data_json['features']:\n",
    "    # if feature['properties']['ARR_DRT'] == \"Le Sud-Ouest\":\n",
    "    for idx, coord in enumerate(feature['geometry']['coordinates']):\n",
    "        coord = tuple(coord)\n",
    "        if coord not in G:\n",
    "            G.add_node(coord, **feature['properties'])\n",
    "        if idx != 0:\n",
    "            G.add_edge(last_node, coord, length=distance_in_km(coord, last_node))\n",
    "        last_node = coord"
   ]
  },
  {
   "cell_type": "code",
   "execution_count": 7,
   "metadata": {},
   "outputs": [],
   "source": [
    "def longest_node_distance():\n",
    "    max_dist = 0\n",
    "    for idx, start in enumerate(list(G.nodes(data=True))):\n",
    "        for end in list(G.nodes(data=True)):\n",
    "            if start != end:\n",
    "                try:\n",
    "                    dist = nx.shortest_path_length(G,source=start[0], target=end[0], weight='length')\n",
    "                except nx.NetworkXNoPath:\n",
    "                    continue\n",
    "                if dist > max_dist:\n",
    "                    max_dist = dist\n",
    "                    start_node = start\n",
    "                    end_node = end\n",
    "        break\n",
    "    return start_node, end_node, max_dist"
   ]
  },
  {
   "cell_type": "code",
   "execution_count": 8,
   "metadata": {},
   "outputs": [],
   "source": [
    "# pos = nx.spring_layout(G)\n",
    "# nx.draw_networkx_nodes(G, pos, cmap=plt.get_cmap('jet'), node_size = 0)\n",
    "# #nx.draw_networkx_labels(G, pos)\n",
    "# nx.draw_networkx_edges(G, pos, edgelist=G.edges())"
   ]
  },
  {
   "cell_type": "code",
   "execution_count": 9,
   "metadata": {},
   "outputs": [
    {
     "data": {
      "text/html": [
       "<div>\n",
       "<style scoped>\n",
       "    .dataframe tbody tr th:only-of-type {\n",
       "        vertical-align: middle;\n",
       "    }\n",
       "\n",
       "    .dataframe tbody tr th {\n",
       "        vertical-align: top;\n",
       "    }\n",
       "\n",
       "    .dataframe thead th {\n",
       "        text-align: right;\n",
       "    }\n",
       "</style>\n",
       "<table border=\"1\" class=\"dataframe\">\n",
       "  <thead>\n",
       "    <tr style=\"text-align: right;\">\n",
       "      <th></th>\n",
       "      <th>CASERNE</th>\n",
       "      <th>NO_CIVIQUE</th>\n",
       "      <th>RUE</th>\n",
       "      <th>LATITUDE</th>\n",
       "      <th>LONGITUDE</th>\n",
       "      <th>ARRONDISSEMENT</th>\n",
       "      <th>VILLE</th>\n",
       "      <th>DATE_DEBUT</th>\n",
       "      <th>DATE_FIN</th>\n",
       "      <th>MTM8_X</th>\n",
       "      <th>MTM8_Y</th>\n",
       "    </tr>\n",
       "  </thead>\n",
       "  <tbody>\n",
       "    <tr>\n",
       "      <th>0</th>\n",
       "      <td>3</td>\n",
       "      <td>256</td>\n",
       "      <td>rue  Young</td>\n",
       "      <td>45.493454</td>\n",
       "      <td>-73.560172</td>\n",
       "      <td>LE SUD-OUEST</td>\n",
       "      <td>NaN</td>\n",
       "      <td>2015-01-01T07:00:00</td>\n",
       "      <td>NaN</td>\n",
       "      <td>300097.0</td>\n",
       "      <td>5039283.0</td>\n",
       "    </tr>\n",
       "    <tr>\n",
       "      <th>1</th>\n",
       "      <td>15</td>\n",
       "      <td>1255</td>\n",
       "      <td>rue de la Sucrerie</td>\n",
       "      <td>45.484419</td>\n",
       "      <td>-73.560917</td>\n",
       "      <td>LE SUD-OUEST</td>\n",
       "      <td>NaN</td>\n",
       "      <td>2015-01-01T07:00:00</td>\n",
       "      <td>NaN</td>\n",
       "      <td>300038.0</td>\n",
       "      <td>5038279.0</td>\n",
       "    </tr>\n",
       "    <tr>\n",
       "      <th>2</th>\n",
       "      <td>23</td>\n",
       "      <td>523</td>\n",
       "      <td>place Saint-Henri</td>\n",
       "      <td>45.477925</td>\n",
       "      <td>-73.585251</td>\n",
       "      <td>LE SUD-OUEST</td>\n",
       "      <td>NaN</td>\n",
       "      <td>2015-01-01T07:00:00</td>\n",
       "      <td>NaN</td>\n",
       "      <td>298135.0</td>\n",
       "      <td>5037559.0</td>\n",
       "    </tr>\n",
       "    <tr>\n",
       "      <th>3</th>\n",
       "      <td>33</td>\n",
       "      <td>6040</td>\n",
       "      <td>boulevard Monk</td>\n",
       "      <td>45.457841</td>\n",
       "      <td>-73.595450</td>\n",
       "      <td>LE SUD-OUEST</td>\n",
       "      <td>NaN</td>\n",
       "      <td>2015-01-01T07:00:00</td>\n",
       "      <td>NaN</td>\n",
       "      <td>297335.0</td>\n",
       "      <td>5035328.0</td>\n",
       "    </tr>\n",
       "    <tr>\n",
       "      <th>4</th>\n",
       "      <td>9</td>\n",
       "      <td>8100</td>\n",
       "      <td>boulevard Saint-Michel</td>\n",
       "      <td>45.563748</td>\n",
       "      <td>-73.610169</td>\n",
       "      <td>VILLERAY-SAINT-MICHEL-PARC-EXTENSION</td>\n",
       "      <td>NaN</td>\n",
       "      <td>2019-05-06T07:00:00</td>\n",
       "      <td>NaN</td>\n",
       "      <td>296200.0</td>\n",
       "      <td>5047099.0</td>\n",
       "    </tr>\n",
       "  </tbody>\n",
       "</table>\n",
       "</div>"
      ],
      "text/plain": [
       "   CASERNE  NO_CIVIQUE                     RUE   LATITUDE  LONGITUDE  \\\n",
       "0        3         256              rue  Young  45.493454 -73.560172   \n",
       "1       15        1255      rue de la Sucrerie  45.484419 -73.560917   \n",
       "2       23         523       place Saint-Henri  45.477925 -73.585251   \n",
       "3       33        6040          boulevard Monk  45.457841 -73.595450   \n",
       "4        9        8100  boulevard Saint-Michel  45.563748 -73.610169   \n",
       "\n",
       "                         ARRONDISSEMENT VILLE           DATE_DEBUT DATE_FIN  \\\n",
       "0                          LE SUD-OUEST   NaN  2015-01-01T07:00:00      NaN   \n",
       "1                          LE SUD-OUEST   NaN  2015-01-01T07:00:00      NaN   \n",
       "2                          LE SUD-OUEST   NaN  2015-01-01T07:00:00      NaN   \n",
       "3                          LE SUD-OUEST   NaN  2015-01-01T07:00:00      NaN   \n",
       "4  VILLERAY-SAINT-MICHEL-PARC-EXTENSION   NaN  2019-05-06T07:00:00      NaN   \n",
       "\n",
       "     MTM8_X     MTM8_Y  \n",
       "0  300097.0  5039283.0  \n",
       "1  300038.0  5038279.0  \n",
       "2  298135.0  5037559.0  \n",
       "3  297335.0  5035328.0  \n",
       "4  296200.0  5047099.0  "
      ]
     },
     "execution_count": 9,
     "metadata": {},
     "output_type": "execute_result"
    }
   ],
   "source": [
    "fire_stations = pd.read_csv(r\"C:\\Users\\olive\\Documents\\GitHub\\MontrealFireSafetyProject\\casernes.csv\")\n",
    "fire_stations.head()"
   ]
  },
  {
   "cell_type": "code",
   "execution_count": 10,
   "metadata": {},
   "outputs": [],
   "source": [
    "fs_update = dict(zip(G.nodes, [{'FIRE_STATION': False} for x in G.nodes]))\n",
    "nx.set_node_attributes(G, fs_update)\n",
    "for index, row in fire_stations.iterrows():\n",
    "    min_dist = 1000\n",
    "    f_long, f_lat = row['LONGITUDE'], row['LATITUDE']\n",
    "    for node in list(G.nodes):\n",
    "        dist = distance_in_km(node, (f_long, f_lat))\n",
    "        if dist < min_dist:\n",
    "            min_dist = dist\n",
    "            closest_node = node\n",
    "    nx.set_node_attributes(G, {closest_node: {'FIRE_STATION': True}})"
   ]
  },
  {
   "cell_type": "code",
   "execution_count": 11,
   "metadata": {},
   "outputs": [],
   "source": [
    "# fs_nodes = [x for x, y in G.nodes(data=True) if y['FIRE_STATION']==True]\n",
    "# idx = 0\n",
    "# for node, _ in G.nodes(data=True):\n",
    "#     idx += 1\n",
    "#     print(idx, '/', len(G.nodes))\n",
    "#     min_dist = 1000\n",
    "#     for fs in fs_nodes:\n",
    "#         try:\n",
    "#             dist = nx.shortest_path_length(G, source=fs, target=node, weight='length')\n",
    "#         except nx.NetworkXNoPath:\n",
    "#             continue\n",
    "#         if dist < min_dist:\n",
    "#             min_dist = dist\n",
    "#     nx.set_node_attributes(G, {node: {'DIST_TO_FS': min_dist}})"
   ]
  },
  {
   "cell_type": "code",
   "execution_count": 12,
   "metadata": {},
   "outputs": [],
   "source": [
    "data = []\n",
    "for node in G.nodes(data=True):\n",
    "    data.append({'Longitude': node[0][0], 'Latitude': node[0][1], **node[1]})\n",
    "res = pd.DataFrame(data)\n",
    "res.to_csv(r\"node_data.csv\")"
   ]
  },
  {
   "cell_type": "code",
   "execution_count": null,
   "metadata": {},
   "outputs": [],
   "source": []
  }
 ],
 "metadata": {
  "kernelspec": {
   "display_name": "Python 3",
   "language": "python",
   "name": "python3"
  },
  "language_info": {
   "codemirror_mode": {
    "name": "ipython",
    "version": 3
   },
   "file_extension": ".py",
   "mimetype": "text/x-python",
   "name": "python",
   "nbconvert_exporter": "python",
   "pygments_lexer": "ipython3",
   "version": "3.7.2"
  }
 },
 "nbformat": 4,
 "nbformat_minor": 2
}
